{
 "cells": [
  {
   "cell_type": "code",
   "execution_count": 5,
   "metadata": {},
   "outputs": [
    {
     "name": "stdout",
     "output_type": "stream",
     "text": [
      "5\n",
      "<class 'int'>\n",
      "Hola\n"
     ]
    }
   ],
   "source": [
    "a = int(input())\n",
    "print(type(a))\n",
    "if a == 5:\n",
    "    b = \"Hola\"\n",
    "else:\n",
    "    b = \"Adios\"\n",
    "    \n",
    "print(b)"
   ]
  },
  {
   "cell_type": "code",
   "execution_count": 10,
   "metadata": {},
   "outputs": [
    {
     "name": "stdout",
     "output_type": "stream",
     "text": [
      "12\n",
      "<class 'int'>\n",
      "Adios\n"
     ]
    }
   ],
   "source": [
    "a = int(input())\n",
    "print(type(a))\n",
    "b = \"Hola\" if a < 5 else \"Adios\" if a > 10 else \"Nada\"\n",
    "print(b)"
   ]
  },
  {
   "cell_type": "code",
   "execution_count": 46,
   "metadata": {},
   "outputs": [
    {
     "data": {
      "text/plain": [
       "15"
      ]
     },
     "execution_count": 46,
     "metadata": {},
     "output_type": "execute_result"
    }
   ],
   "source": [
    "def suma(a,b):\n",
    "    return a+b\n",
    "\n",
    "suma(5,10)"
   ]
  },
  {
   "cell_type": "code",
   "execution_count": 14,
   "metadata": {},
   "outputs": [
    {
     "data": {
      "text/plain": [
       "30"
      ]
     },
     "execution_count": 14,
     "metadata": {},
     "output_type": "execute_result"
    }
   ],
   "source": [
    "z = suma\n",
    "z(10,20)"
   ]
  },
  {
   "cell_type": "code",
   "execution_count": 15,
   "metadata": {},
   "outputs": [
    {
     "name": "stdout",
     "output_type": "stream",
     "text": [
      "<function suma at 0x109e10a60>\n"
     ]
    }
   ],
   "source": [
    "print(z)"
   ]
  },
  {
   "cell_type": "code",
   "execution_count": 18,
   "metadata": {},
   "outputs": [
    {
     "data": {
      "text/plain": [
       "<function __main__.<lambda>(a, b)>"
      ]
     },
     "execution_count": 18,
     "metadata": {},
     "output_type": "execute_result"
    }
   ],
   "source": [
    "suma2 = lambda a,b: a+b\n",
    "suma2"
   ]
  },
  {
   "cell_type": "code",
   "execution_count": 19,
   "metadata": {},
   "outputs": [
    {
     "data": {
      "text/plain": [
       "80"
      ]
     },
     "execution_count": 19,
     "metadata": {},
     "output_type": "execute_result"
    }
   ],
   "source": [
    "suma2(30,50)"
   ]
  },
  {
   "cell_type": "code",
   "execution_count": 20,
   "metadata": {},
   "outputs": [
    {
     "data": {
      "text/plain": [
       "200"
      ]
     },
     "execution_count": 20,
     "metadata": {},
     "output_type": "execute_result"
    }
   ],
   "source": [
    "(lambda a,b: a*b)(10,20)"
   ]
  },
  {
   "cell_type": "code",
   "execution_count": 21,
   "metadata": {},
   "outputs": [],
   "source": [
    "saluda = lambda a: \"Hola\" if a < 5 else \"Adios\" if a > 10 else \"Nada\""
   ]
  },
  {
   "cell_type": "code",
   "execution_count": 22,
   "metadata": {},
   "outputs": [
    {
     "data": {
      "text/plain": [
       "<function __main__.<lambda>(a)>"
      ]
     },
     "execution_count": 22,
     "metadata": {},
     "output_type": "execute_result"
    }
   ],
   "source": [
    "saluda"
   ]
  },
  {
   "cell_type": "code",
   "execution_count": 23,
   "metadata": {},
   "outputs": [
    {
     "data": {
      "text/plain": [
       "'Hola'"
      ]
     },
     "execution_count": 23,
     "metadata": {},
     "output_type": "execute_result"
    }
   ],
   "source": [
    "saluda(2)"
   ]
  },
  {
   "cell_type": "code",
   "execution_count": 24,
   "metadata": {},
   "outputs": [
    {
     "data": {
      "text/plain": [
       "'Nada'"
      ]
     },
     "execution_count": 24,
     "metadata": {},
     "output_type": "execute_result"
    }
   ],
   "source": [
    "saluda(6)"
   ]
  },
  {
   "cell_type": "code",
   "execution_count": 25,
   "metadata": {},
   "outputs": [
    {
     "data": {
      "text/plain": [
       "'Adios'"
      ]
     },
     "execution_count": 25,
     "metadata": {},
     "output_type": "execute_result"
    }
   ],
   "source": [
    "saluda(12)"
   ]
  },
  {
   "cell_type": "code",
   "execution_count": 26,
   "metadata": {},
   "outputs": [
    {
     "name": "stdout",
     "output_type": "stream",
     "text": [
      "Hola Pepe\n",
      "Hola Juan\n",
      "Hola Marta\n"
     ]
    }
   ],
   "source": [
    "def saluda(nombres):\n",
    "    for nombre in nombres:\n",
    "        print(f\"Hola {nombre}\")\n",
    "\n",
    "saluda([\"Pepe\",\"Juan\",\"Marta\"])"
   ]
  },
  {
   "cell_type": "code",
   "execution_count": 29,
   "metadata": {},
   "outputs": [
    {
     "name": "stdout",
     "output_type": "stream",
     "text": [
      "('Pepe', 'Juan', 'Marta') <class 'tuple'>\n",
      "Hola Pepe\n",
      "Hola Juan\n",
      "Hola Marta\n"
     ]
    }
   ],
   "source": [
    "def saluda(*nombres):\n",
    "    print(nombres, type(nombres))\n",
    "    for nombre in nombres:\n",
    "        print(f\"Hola {nombre}\")\n",
    "\n",
    "saluda(*[\"Pepe\",\"Juan\",\"Marta\"])"
   ]
  },
  {
   "cell_type": "code",
   "execution_count": 58,
   "metadata": {},
   "outputs": [
    {
     "name": "stdout",
     "output_type": "stream",
     "text": [
      "('Pepe', 'Juan', 'Marta') <class 'tuple'>\n",
      "Hola Pepe\n",
      "Hola Juan\n",
      "Hola Marta\n",
      "('Pepe', 'Juan', 'Marta') <class 'tuple'>\n",
      "Hello Pepe\n",
      "Hello Juan\n",
      "Hello Marta\n"
     ]
    }
   ],
   "source": [
    "def saluda(*nombres):\n",
    "    print(nombres, type(nombres))\n",
    "    for nombre in nombres:\n",
    "        print(f\"Hola {nombre}\")\n",
    "\n",
    "def saludaEng(*nombres):\n",
    "    print(nombres, type(nombres))\n",
    "    for nombre in nombres:\n",
    "        print(f\"Hello {nombre}\")\n",
    "        \n",
    "saluda(\"Pepe\",\"Juan\",\"Marta\")\n",
    "saludaEng(\"Pepe\",\"Juan\",\"Marta\")"
   ]
  },
  {
   "cell_type": "code",
   "execution_count": 31,
   "metadata": {},
   "outputs": [
    {
     "data": {
      "text/plain": [
       "['Hola Pepe', 'Hola Juan', 'Hola Marta']"
      ]
     },
     "execution_count": 31,
     "metadata": {},
     "output_type": "execute_result"
    }
   ],
   "source": [
    "nombres = [\"Pepe\",\"Juan\",\"Marta\"]\n",
    "[f\"Hola {nombre}\" for nombre in nombres]"
   ]
  },
  {
   "cell_type": "code",
   "execution_count": 34,
   "metadata": {},
   "outputs": [],
   "source": [
    "saluda2 = lambda q: '\\n'.join([f\"Hola {e}\" for e in q])"
   ]
  },
  {
   "cell_type": "code",
   "execution_count": 38,
   "metadata": {},
   "outputs": [
    {
     "name": "stdout",
     "output_type": "stream",
     "text": [
      "Hola Pepe\n",
      "Hola Juan\n",
      "Hola Marta\n"
     ]
    }
   ],
   "source": [
    "print(saluda2([\"Pepe\",\"Juan\",\"Marta\"]))"
   ]
  },
  {
   "cell_type": "code",
   "execution_count": 40,
   "metadata": {},
   "outputs": [
    {
     "name": "stdout",
     "output_type": "stream",
     "text": [
      "Hola Pepe\n",
      "Hola Juan\n",
      "Hola Marta\n"
     ]
    }
   ],
   "source": [
    "saluda2 = lambda *q: '\\n'.join([f\"Hola {e}\" for e in q])\n",
    "print(saluda2(\"Pepe\",\"Juan\",\"Marta\"))"
   ]
  },
  {
   "cell_type": "code",
   "execution_count": 48,
   "metadata": {},
   "outputs": [
    {
     "ename": "TypeError",
     "evalue": "<lambda>() takes 1 positional argument but 3 were given",
     "output_type": "error",
     "traceback": [
      "\u001b[0;31m---------------------------------------------------------------------------\u001b[0m",
      "\u001b[0;31mTypeError\u001b[0m                                 Traceback (most recent call last)",
      "\u001b[0;32m<ipython-input-48-04a042a1f1fb>\u001b[0m in \u001b[0;36m<module>\u001b[0;34m\u001b[0m\n\u001b[0;32m----> 1\u001b[0;31m \u001b[0mprint\u001b[0m\u001b[0;34m(\u001b[0m\u001b[0;34m(\u001b[0m\u001b[0;32mlambda\u001b[0m \u001b[0mq\u001b[0m\u001b[0;34m:\u001b[0m \u001b[0;34m'\\n'\u001b[0m\u001b[0;34m.\u001b[0m\u001b[0mjoin\u001b[0m\u001b[0;34m(\u001b[0m\u001b[0;34m[\u001b[0m\u001b[0;34mf\"Hola {e}\"\u001b[0m \u001b[0;32mfor\u001b[0m \u001b[0me\u001b[0m \u001b[0;32min\u001b[0m \u001b[0mq\u001b[0m\u001b[0;34m]\u001b[0m\u001b[0;34m)\u001b[0m\u001b[0;34m)\u001b[0m\u001b[0;34m(\u001b[0m\u001b[0;34m\"Felipe\"\u001b[0m\u001b[0;34m,\u001b[0m\u001b[0;34m\"Amanda\"\u001b[0m\u001b[0;34m,\u001b[0m\u001b[0;34m\"Marc\"\u001b[0m\u001b[0;34m)\u001b[0m\u001b[0;34m)\u001b[0m\u001b[0;34m\u001b[0m\u001b[0;34m\u001b[0m\u001b[0m\n\u001b[0m",
      "\u001b[0;31mTypeError\u001b[0m: <lambda>() takes 1 positional argument but 3 were given"
     ]
    }
   ],
   "source": [
    "print((lambda q: '\\n'.join([f\"Hola {e}\" for e in q]))(\"Felipe\",\"Amanda\",\"Marc\"))\n"
   ]
  },
  {
   "cell_type": "code",
   "execution_count": 49,
   "metadata": {},
   "outputs": [
    {
     "name": "stdout",
     "output_type": "stream",
     "text": [
      "Hola Felipe\n",
      "Hola Amanda\n",
      "Hola Marc\n"
     ]
    }
   ],
   "source": [
    "print((lambda *q: '\\n'.join([f\"Hola {e}\" for e in q]))(\"Felipe\",\"Amanda\",\"Marc\"))\n"
   ]
  },
  {
   "cell_type": "code",
   "execution_count": 54,
   "metadata": {},
   "outputs": [
    {
     "data": {
      "text/plain": [
       "['Felipe', 'Amanda', 'Marc']"
      ]
     },
     "execution_count": 54,
     "metadata": {},
     "output_type": "execute_result"
    }
   ],
   "source": [
    "def saluda3(nombres, fn):\n",
    "    return fn(nombres)\n",
    "\n",
    "saluda3([\"Felipe\",\"Amanda\",\"Marc\"], lambda e: e)"
   ]
  },
  {
   "cell_type": "code",
   "execution_count": 55,
   "metadata": {},
   "outputs": [
    {
     "data": {
      "text/plain": [
       "\"¡Hola ['Felipe', 'Amanda', 'Marc']!🚀\""
      ]
     },
     "execution_count": 55,
     "metadata": {},
     "output_type": "execute_result"
    }
   ],
   "source": [
    "def saluda3(nombres, fn):\n",
    "    return fn(nombres)\n",
    "\n",
    "saluda3([\"Felipe\",\"Amanda\",\"Marc\"], lambda n: f\"¡Hola {n}!🚀\")"
   ]
  },
  {
   "cell_type": "code",
   "execution_count": 59,
   "metadata": {},
   "outputs": [
    {
     "name": "stdout",
     "output_type": "stream",
     "text": [
      "¡Hola Felipe!🚀\n",
      "¡Hola Amanda!🚀\n",
      "¡Hola Marc!🚀\n",
      "¡Hello Felipe!🚀\n",
      "¡Hello Amanda!🚀\n",
      "¡Hello Marc!🚀\n"
     ]
    }
   ],
   "source": [
    "def saluda3(nombres, fn):\n",
    "    for n in nombres:\n",
    "        print(fn(n))\n",
    "\n",
    "saluda3([\"Felipe\",\"Amanda\",\"Marc\"], lambda n: f\"¡Hola {n}!🚀\")\n",
    "saluda3([\"Felipe\",\"Amanda\",\"Marc\"], lambda n: f\"¡Hello {n}!🚀\")"
   ]
  },
  {
   "cell_type": "code",
   "execution_count": 61,
   "metadata": {
    "scrolled": true
   },
   "outputs": [
    {
     "name": "stdout",
     "output_type": "stream",
     "text": [
      "¡Hello Felipe!🚀\n",
      "¡Hello Amanda!🚀\n",
      "¡Hello Marc!🚀\n"
     ]
    },
    {
     "data": {
      "text/plain": [
       "[None, None, None]"
      ]
     },
     "execution_count": 61,
     "metadata": {},
     "output_type": "execute_result"
    }
   ],
   "source": [
    "saluda3 = lambda nombres, fn: [print(fn(n)) for n in nombres]\n",
    "saluda3([\"Felipe\",\"Amanda\",\"Marc\"], lambda n: f\"¡Hello {n}!🚀\")"
   ]
  },
  {
   "cell_type": "code",
   "execution_count": 62,
   "metadata": {},
   "outputs": [
    {
     "name": "stdout",
     "output_type": "stream",
     "text": [
      "['¡Hello Felipe!🚀', '¡Hello Amanda!🚀', '¡Hello Marc!🚀']\n"
     ]
    }
   ],
   "source": [
    "saluda3 = lambda nombres, fn: print([fn(n) for n in nombres])\n",
    "saluda3([\"Felipe\",\"Amanda\",\"Marc\"], lambda n: f\"¡Hello {n}!🚀\")"
   ]
  },
  {
   "cell_type": "code",
   "execution_count": 63,
   "metadata": {},
   "outputs": [
    {
     "name": "stdout",
     "output_type": "stream",
     "text": [
      "¡Hello Felipe!🚀 ¡Hello Amanda!🚀 ¡Hello Marc!🚀\n"
     ]
    }
   ],
   "source": [
    "saluda3 = lambda nombres, fn: print(*[fn(n) for n in nombres])\n",
    "saluda3([\"Felipe\",\"Amanda\",\"Marc\"], lambda n: f\"¡Hello {n}!🚀\")"
   ]
  },
  {
   "cell_type": "code",
   "execution_count": 65,
   "metadata": {},
   "outputs": [
    {
     "name": "stdout",
     "output_type": "stream",
     "text": [
      "['Hola', 'Adios']\n"
     ]
    }
   ],
   "source": [
    "print([\"Hola\",\"Adios\"])"
   ]
  },
  {
   "cell_type": "code",
   "execution_count": 66,
   "metadata": {},
   "outputs": [
    {
     "name": "stdout",
     "output_type": "stream",
     "text": [
      "Hola Adios\n"
     ]
    }
   ],
   "source": [
    "print(*[\"Hola\",\"Adios\"])"
   ]
  },
  {
   "cell_type": "code",
   "execution_count": 69,
   "metadata": {},
   "outputs": [
    {
     "name": "stdout",
     "output_type": "stream",
     "text": [
      "¡Hello Felipe!🚀\n",
      " ¡Hello Amanda!🚀\n",
      " ¡Hello Marc!🚀\n",
      "\n"
     ]
    }
   ],
   "source": [
    "# Quiz: ¿de donde sale el espacio?\n",
    "saluda3 = lambda nombres, fn: print(*[f\"{fn(n)}\\n\" for n in nombres])\n",
    "saluda3([\"Felipe\",\"Amanda\",\"Marc\"], lambda n: f\"¡Hello {n}!🚀\")"
   ]
  },
  {
   "cell_type": "markdown",
   "metadata": {},
   "source": [
    "# Map,filter,reduce"
   ]
  },
  {
   "cell_type": "code",
   "execution_count": 72,
   "metadata": {},
   "outputs": [],
   "source": [
    "a = [\"🔥\",\"🏝\",\"❤️\",\"⚡️\"]"
   ]
  },
  {
   "cell_type": "code",
   "execution_count": 80,
   "metadata": {},
   "outputs": [
    {
     "name": "stdout",
     "output_type": "stream",
     "text": [
      "['🔥🔥🔥', '🏝🏝🏝', '❤️❤️❤️', '⚡️⚡️⚡️']\n"
     ]
    }
   ],
   "source": [
    "b = list(map(lambda e:e*3,a))\n",
    "print(b)"
   ]
  },
  {
   "cell_type": "code",
   "execution_count": 82,
   "metadata": {},
   "outputs": [
    {
     "data": {
      "text/plain": [
       "11"
      ]
     },
     "execution_count": 82,
     "metadata": {},
     "output_type": "execute_result"
    }
   ],
   "source": [
    "hotels = [\n",
    "    {\"name\":\"Ritz\",\"stars\":5},\n",
    "    {\"name\":\"Palace\",\"stars\":4},\n",
    "    {\"name\":\"Pension Puri\",\"stars\":2},\n",
    "]\n",
    "sum(list(map( lambda e: e[\"stars\"], hotels)))"
   ]
  },
  {
   "cell_type": "code",
   "execution_count": 102,
   "metadata": {},
   "outputs": [
    {
     "data": {
      "text/plain": [
       "'Ritz-Palace-Pension Puri'"
      ]
     },
     "execution_count": 102,
     "metadata": {},
     "output_type": "execute_result"
    }
   ],
   "source": [
    "'-'.join(map(lambda h: h[\"name\"], hotels))"
   ]
  },
  {
   "cell_type": "code",
   "execution_count": 84,
   "metadata": {},
   "outputs": [
    {
     "data": {
      "text/plain": [
       "<map at 0x109efca00>"
      ]
     },
     "execution_count": 84,
     "metadata": {},
     "output_type": "execute_result"
    }
   ],
   "source": [
    "a = [\"🔥\",\"🏝\",\"❤️\",\"⚡️\"]\n",
    "map(lambda e:e*3,a)"
   ]
  },
  {
   "cell_type": "code",
   "execution_count": 87,
   "metadata": {},
   "outputs": [
    {
     "name": "stdout",
     "output_type": "stream",
     "text": [
      "--> 🔥🔥🔥\n",
      "--> 🏝🏝🏝\n",
      "--> ❤️❤️❤️\n",
      "--> ⚡️⚡️⚡️\n"
     ]
    }
   ],
   "source": [
    "a = [\"🔥\",\"🏝\",\"❤️\",\"⚡️\"]\n",
    "for e in map(lambda e:e*3,a):\n",
    "    print(\"-->\",e)"
   ]
  },
  {
   "cell_type": "code",
   "execution_count": 98,
   "metadata": {},
   "outputs": [
    {
     "name": "stdout",
     "output_type": "stream",
     "text": [
      "--> 🔥🔥🔥\n"
     ]
    }
   ],
   "source": [
    "a = [\"🔥\",\"🏝\",\"❤️\",\"⚡️\"]\n",
    "for e in map(lambda e:e*3,a):\n",
    "    print(\"-->\",e)\n",
    "    break"
   ]
  },
  {
   "cell_type": "code",
   "execution_count": 91,
   "metadata": {},
   "outputs": [
    {
     "name": "stdout",
     "output_type": "stream",
     "text": [
      "transformando 🔥\n",
      "--> 🔥🔥🔥\n",
      "transformando 🏝\n",
      "--> 🏝🏝🏝\n",
      "transformando ❤️\n",
      "--> ❤️❤️❤️\n",
      "transformando ⚡️\n",
      "--> ⚡️⚡️⚡️\n"
     ]
    }
   ],
   "source": [
    "a = [\"🔥\",\"🏝\",\"❤️\",\"⚡️\"]\n",
    "\n",
    "def transforma(e):\n",
    "    print(\"transformando\",e)\n",
    "    return e*3\n",
    "\n",
    "for e in map(transforma,a):\n",
    "    print(\"-->\",e)"
   ]
  },
  {
   "cell_type": "code",
   "execution_count": 93,
   "metadata": {},
   "outputs": [
    {
     "name": "stdout",
     "output_type": "stream",
     "text": [
      "transformando 🔥\n",
      "0 --> 🔥🔥🔥\n",
      "transformando 🏝\n",
      "1 --> 🏝🏝🏝\n",
      "transformando ❤️\n",
      "2 --> ❤️❤️❤️\n"
     ]
    }
   ],
   "source": [
    "a = [\"🔥\",\"🏝\",\"❤️\",\"⚡️\"]\n",
    "\n",
    "def transforma(e):\n",
    "    print(\"transformando\",e)\n",
    "    return e*3\n",
    "\n",
    "for i,e in enumerate(map(transforma,a)):\n",
    "    print(i,\"-->\",e)\n",
    "    if i==2:\n",
    "        break"
   ]
  },
  {
   "cell_type": "code",
   "execution_count": 95,
   "metadata": {},
   "outputs": [
    {
     "data": {
      "text/plain": [
       "['🔥🔥🔥', '🏝🏝🏝', '❤️❤️❤️', '⚡️⚡️⚡️']"
      ]
     },
     "execution_count": 95,
     "metadata": {},
     "output_type": "execute_result"
    }
   ],
   "source": [
    "[e*3 for e in [\"🔥\",\"🏝\",\"❤️\",\"⚡️\"]]"
   ]
  },
  {
   "cell_type": "code",
   "execution_count": 101,
   "metadata": {},
   "outputs": [
    {
     "data": {
      "text/plain": [
       "['hh', 'oo', 'll', 'aa']"
      ]
     },
     "execution_count": 101,
     "metadata": {},
     "output_type": "execute_result"
    }
   ],
   "source": [
    "list(map(lambda e: e*2,\"hola\"))"
   ]
  },
  {
   "cell_type": "code",
   "execution_count": 103,
   "metadata": {},
   "outputs": [
    {
     "data": {
      "text/plain": [
       "['Hola 🔥🔥', 'Hola 🏝🏝', 'Hola ❤️❤️', 'Hola ⚡️⚡️']"
      ]
     },
     "execution_count": 103,
     "metadata": {},
     "output_type": "execute_result"
    }
   ],
   "source": [
    "pordos = lambda e: e*2\n",
    "mashola = lambda e: f\"Hola {e}\"\n",
    "\n",
    "a = [\"🔥\",\"🏝\",\"❤️\",\"⚡️\"]\n",
    "list(map(mashola,map(pordos,a)))"
   ]
  },
  {
   "cell_type": "code",
   "execution_count": null,
   "metadata": {},
   "outputs": [],
   "source": []
  },
  {
   "cell_type": "code",
   "execution_count": 106,
   "metadata": {},
   "outputs": [
    {
     "name": "stdout",
     "output_type": "stream",
     "text": [
      "['🤓', '🤓', '😎', '🤓', '⭐️', '🤓']\n"
     ]
    }
   ],
   "source": [
    "people = [\"🤓\",\"🤓\",\"😎\",\"🤓\",\"⭐️\",\"🤓\"]\n",
    "b = list(filter(lambda e: True,people))\n",
    "print(b)"
   ]
  },
  {
   "cell_type": "code",
   "execution_count": 107,
   "metadata": {},
   "outputs": [
    {
     "name": "stdout",
     "output_type": "stream",
     "text": [
      "[]\n"
     ]
    }
   ],
   "source": [
    "people = [\"🤓\",\"🤓\",\"😎\",\"🤓\",\"⭐️\",\"🤓\"]\n",
    "b = list(filter(lambda e: False,people))\n",
    "print(b)"
   ]
  },
  {
   "cell_type": "code",
   "execution_count": 121,
   "metadata": {},
   "outputs": [
    {
     "name": "stdout",
     "output_type": "stream",
     "text": [
      "['🤓', '🤓', '🤓', '🤓']\n"
     ]
    }
   ],
   "source": [
    "people = [\"🤓\",\"🤓\",\"😎\",\"🤓\",\"⭐️\",\"🤓\"]\n",
    "b = list(filter(lambda e: e==\"🤓\",people))\n",
    "print(b)"
   ]
  },
  {
   "cell_type": "code",
   "execution_count": 111,
   "metadata": {},
   "outputs": [
    {
     "name": "stdout",
     "output_type": "stream",
     "text": [
      "[]\n"
     ]
    }
   ],
   "source": [
    "people = [\"🤓\",\"🤓\",\"😎\",\"🤓\",\"⭐️\",\"🤓\"]\n",
    "b = list(filter(lambda e: 0,people))\n",
    "print(b)"
   ]
  },
  {
   "cell_type": "code",
   "execution_count": 116,
   "metadata": {},
   "outputs": [
    {
     "name": "stdout",
     "output_type": "stream",
     "text": [
      "Hola 1\n",
      "Hola 2\n",
      "Hola 3\n",
      "Hola 4\n"
     ]
    },
    {
     "data": {
      "text/plain": [
       "[None, None, None, None]"
      ]
     },
     "execution_count": 116,
     "metadata": {},
     "output_type": "execute_result"
    }
   ],
   "source": [
    "def hola(x):\n",
    "    return print(f\"Hola {x}\")\n",
    "    \n",
    "list(map(hola,[1,2,3,4]))"
   ]
  },
  {
   "cell_type": "code",
   "execution_count": 123,
   "metadata": {},
   "outputs": [
    {
     "data": {
      "text/plain": [
       "['🤓🤓', '🤓🤓', '🤓🤓', '🤓🤓']"
      ]
     },
     "execution_count": 123,
     "metadata": {},
     "output_type": "execute_result"
    }
   ],
   "source": [
    "people = [\"🤓\",\"🤓\",\"😎\",\"🤓\",\"⭐️\",\"🤓\"]\n",
    "list(filter(lambda e: \"🤓\" in e,map(lambda e: e*2,people)))"
   ]
  },
  {
   "cell_type": "code",
   "execution_count": null,
   "metadata": {},
   "outputs": [],
   "source": []
  },
  {
   "cell_type": "code",
   "execution_count": 127,
   "metadata": {},
   "outputs": [
    {
     "name": "stdout",
     "output_type": "stream",
     "text": [
      "ACC[0] E[1]\n",
      "ACC[Hola] E[2]\n",
      "ACC[Hola] E[3]\n",
      "ACC[Hola] E[4]\n"
     ]
    },
    {
     "data": {
      "text/plain": [
       "'Hola'"
      ]
     },
     "execution_count": 127,
     "metadata": {},
     "output_type": "execute_result"
    }
   ],
   "source": [
    "from functools import reduce\n",
    "\n",
    "def reducerOp(acc,e):\n",
    "    print(f\"ACC[{acc}] E[{e}]\")\n",
    "    return \"Hola\"\n",
    "\n",
    "a = [1,2,3,4]\n",
    "z = reduce(reducerOp,a,0)\n",
    "z"
   ]
  },
  {
   "cell_type": "code",
   "execution_count": 129,
   "metadata": {},
   "outputs": [
    {
     "name": "stdout",
     "output_type": "stream",
     "text": [
      "ACC[0] E[1]\n",
      "ACC[Hola1] E[2]\n",
      "ACC[Hola2] E[3]\n",
      "ACC[Hola3] E[4]\n"
     ]
    },
    {
     "data": {
      "text/plain": [
       "'Hola4'"
      ]
     },
     "execution_count": 129,
     "metadata": {},
     "output_type": "execute_result"
    }
   ],
   "source": [
    "def reducerOp(acc,e):\n",
    "    print(f\"ACC[{acc}] E[{e}]\")\n",
    "    return \"Hola\" + str(e)\n",
    "\n",
    "a = [1,2,3,4]\n",
    "reduce(reducerOp,a,0)"
   ]
  },
  {
   "cell_type": "code",
   "execution_count": 131,
   "metadata": {},
   "outputs": [
    {
     "name": "stdout",
     "output_type": "stream",
     "text": [
      "ACC[] E[1]\n",
      "ACC[1] E[2]\n",
      "ACC[12] E[3]\n",
      "ACC[123] E[4]\n"
     ]
    },
    {
     "data": {
      "text/plain": [
       "'1234'"
      ]
     },
     "execution_count": 131,
     "metadata": {},
     "output_type": "execute_result"
    }
   ],
   "source": [
    "def reducerOp(acc,e):\n",
    "    print(f\"ACC[{acc}] E[{e}]\")\n",
    "    return acc + str(e)\n",
    "\n",
    "a = [1,2,3,4]\n",
    "reduce(reducerOp,a,\"\")"
   ]
  },
  {
   "cell_type": "code",
   "execution_count": 133,
   "metadata": {},
   "outputs": [
    {
     "name": "stdout",
     "output_type": "stream",
     "text": [
      "ACC[1] E[2]\n"
     ]
    },
    {
     "ename": "TypeError",
     "evalue": "unsupported operand type(s) for +: 'int' and 'str'",
     "output_type": "error",
     "traceback": [
      "\u001b[0;31m---------------------------------------------------------------------------\u001b[0m",
      "\u001b[0;31mTypeError\u001b[0m                                 Traceback (most recent call last)",
      "\u001b[0;32m<ipython-input-133-5aff0be68567>\u001b[0m in \u001b[0;36m<module>\u001b[0;34m\u001b[0m\n\u001b[1;32m      4\u001b[0m \u001b[0;34m\u001b[0m\u001b[0m\n\u001b[1;32m      5\u001b[0m \u001b[0ma\u001b[0m \u001b[0;34m=\u001b[0m \u001b[0;34m[\u001b[0m\u001b[0;36m1\u001b[0m\u001b[0;34m,\u001b[0m\u001b[0;36m2\u001b[0m\u001b[0;34m,\u001b[0m\u001b[0;36m3\u001b[0m\u001b[0;34m,\u001b[0m\u001b[0;36m4\u001b[0m\u001b[0;34m]\u001b[0m\u001b[0;34m\u001b[0m\u001b[0;34m\u001b[0m\u001b[0m\n\u001b[0;32m----> 6\u001b[0;31m \u001b[0mreduce\u001b[0m\u001b[0;34m(\u001b[0m\u001b[0mreducerOp\u001b[0m\u001b[0;34m,\u001b[0m\u001b[0ma\u001b[0m\u001b[0;34m)\u001b[0m\u001b[0;34m\u001b[0m\u001b[0;34m\u001b[0m\u001b[0m\n\u001b[0m",
      "\u001b[0;32m<ipython-input-133-5aff0be68567>\u001b[0m in \u001b[0;36mreducerOp\u001b[0;34m(acc, e)\u001b[0m\n\u001b[1;32m      1\u001b[0m \u001b[0;32mdef\u001b[0m \u001b[0mreducerOp\u001b[0m\u001b[0;34m(\u001b[0m\u001b[0macc\u001b[0m\u001b[0;34m,\u001b[0m\u001b[0me\u001b[0m\u001b[0;34m)\u001b[0m\u001b[0;34m:\u001b[0m\u001b[0;34m\u001b[0m\u001b[0;34m\u001b[0m\u001b[0m\n\u001b[1;32m      2\u001b[0m     \u001b[0mprint\u001b[0m\u001b[0;34m(\u001b[0m\u001b[0;34mf\"ACC[{acc}] E[{e}]\"\u001b[0m\u001b[0;34m)\u001b[0m\u001b[0;34m\u001b[0m\u001b[0;34m\u001b[0m\u001b[0m\n\u001b[0;32m----> 3\u001b[0;31m     \u001b[0;32mreturn\u001b[0m \u001b[0macc\u001b[0m \u001b[0;34m+\u001b[0m \u001b[0mstr\u001b[0m\u001b[0;34m(\u001b[0m\u001b[0me\u001b[0m\u001b[0;34m)\u001b[0m\u001b[0;34m\u001b[0m\u001b[0;34m\u001b[0m\u001b[0m\n\u001b[0m\u001b[1;32m      4\u001b[0m \u001b[0;34m\u001b[0m\u001b[0m\n\u001b[1;32m      5\u001b[0m \u001b[0ma\u001b[0m \u001b[0;34m=\u001b[0m \u001b[0;34m[\u001b[0m\u001b[0;36m1\u001b[0m\u001b[0;34m,\u001b[0m\u001b[0;36m2\u001b[0m\u001b[0;34m,\u001b[0m\u001b[0;36m3\u001b[0m\u001b[0;34m,\u001b[0m\u001b[0;36m4\u001b[0m\u001b[0;34m]\u001b[0m\u001b[0;34m\u001b[0m\u001b[0;34m\u001b[0m\u001b[0m\n",
      "\u001b[0;31mTypeError\u001b[0m: unsupported operand type(s) for +: 'int' and 'str'"
     ]
    }
   ],
   "source": [
    "def reducerOp(acc,e):\n",
    "    print(f\"ACC[{acc}] E[{e}]\")\n",
    "    return acc + str(e)\n",
    "\n",
    "a = [1,2,3,4]\n",
    "reduce(reducerOp,a)"
   ]
  },
  {
   "cell_type": "code",
   "execution_count": 134,
   "metadata": {},
   "outputs": [
    {
     "name": "stdout",
     "output_type": "stream",
     "text": [
      "ACC[1] E[2]\n",
      "ACC[12] E[3]\n",
      "ACC[123] E[4]\n"
     ]
    },
    {
     "data": {
      "text/plain": [
       "'1234'"
      ]
     },
     "execution_count": 134,
     "metadata": {},
     "output_type": "execute_result"
    }
   ],
   "source": [
    "def reducerOp(acc,e):\n",
    "    print(f\"ACC[{acc}] E[{e}]\")\n",
    "    return str(acc) + str(e)\n",
    "\n",
    "a = [1,2,3,4]\n",
    "reduce(reducerOp,a)"
   ]
  },
  {
   "cell_type": "code",
   "execution_count": 139,
   "metadata": {},
   "outputs": [
    {
     "ename": "TypeError",
     "evalue": "<lambda>() missing 1 required positional argument: 'b'",
     "output_type": "error",
     "traceback": [
      "\u001b[0;31m---------------------------------------------------------------------------\u001b[0m",
      "\u001b[0;31mTypeError\u001b[0m                                 Traceback (most recent call last)",
      "\u001b[0;32m<ipython-input-139-6d863309fbaf>\u001b[0m in \u001b[0;36m<module>\u001b[0;34m\u001b[0m\n\u001b[0;32m----> 1\u001b[0;31m \u001b[0mlist\u001b[0m\u001b[0;34m(\u001b[0m\u001b[0mmap\u001b[0m\u001b[0;34m(\u001b[0m\u001b[0;32mlambda\u001b[0m \u001b[0ma\u001b[0m\u001b[0;34m,\u001b[0m\u001b[0mb\u001b[0m\u001b[0;34m:\u001b[0m\u001b[0ma\u001b[0m\u001b[0;34m,\u001b[0m \u001b[0;34m[\u001b[0m\u001b[0;36m1\u001b[0m\u001b[0;34m,\u001b[0m\u001b[0;36m2\u001b[0m\u001b[0;34m,\u001b[0m\u001b[0;36m3\u001b[0m\u001b[0;34m]\u001b[0m\u001b[0;34m)\u001b[0m\u001b[0;34m)\u001b[0m\u001b[0;34m\u001b[0m\u001b[0;34m\u001b[0m\u001b[0m\n\u001b[0m",
      "\u001b[0;31mTypeError\u001b[0m: <lambda>() missing 1 required positional argument: 'b'"
     ]
    }
   ],
   "source": [
    "list(map(lambda a,b: a, [1,2,3]))"
   ]
  },
  {
   "cell_type": "code",
   "execution_count": 144,
   "metadata": {},
   "outputs": [
    {
     "data": {
      "text/plain": [
       "[1, 2, 3]"
      ]
     },
     "execution_count": 144,
     "metadata": {},
     "output_type": "execute_result"
    }
   ],
   "source": [
    "def hola(a,b):\n",
    "    return a\n",
    "\n",
    "#list(map(lambda e:hola(*e), [(1,2),(2,3),(3,4)]))\n",
    "list(map(lambda e:hola(*e), [(1,2),(2,3),(3,4)]))"
   ]
  },
  {
   "cell_type": "code",
   "execution_count": 145,
   "metadata": {},
   "outputs": [
    {
     "name": "stdout",
     "output_type": "stream",
     "text": [
      "1 2 3\n"
     ]
    }
   ],
   "source": [
    "a,b,c = [1,2,3]\n",
    "print(a,b,c)"
   ]
  },
  {
   "cell_type": "code",
   "execution_count": null,
   "metadata": {},
   "outputs": [],
   "source": []
  },
  {
   "cell_type": "code",
   "execution_count": 146,
   "metadata": {},
   "outputs": [
    {
     "name": "stdout",
     "output_type": "stream",
     "text": [
      "ACC[0] E[1]\n",
      "ACC[0.25] E[2]\n",
      "ACC[0.75] E[3]\n",
      "ACC[1.5] E[4]\n"
     ]
    },
    {
     "data": {
      "text/plain": [
       "2.5"
      ]
     },
     "execution_count": 146,
     "metadata": {},
     "output_type": "execute_result"
    }
   ],
   "source": [
    "a = [1,2,3,4]\n",
    "def reducer(acc,e):\n",
    "    print(f\"ACC[{acc}] E[{e}]\")\n",
    "    return acc + e/len(a)\n",
    "\n",
    "reduce(reducer,a,0)"
   ]
  },
  {
   "cell_type": "code",
   "execution_count": 152,
   "metadata": {},
   "outputs": [
    {
     "name": "stdout",
     "output_type": "stream",
     "text": [
      "[1, 2, 3, 4] 2.5\n"
     ]
    }
   ],
   "source": [
    "a = [1,2,3,4]\n",
    "def calculaMedia(z):\n",
    "    return reduce(lambda acc,e: acc + e/len(z) ,z,0)\n",
    "    \n",
    "print(a,calculaMedia(a))\n"
   ]
  },
  {
   "cell_type": "code",
   "execution_count": 157,
   "metadata": {},
   "outputs": [
    {
     "name": "stdout",
     "output_type": "stream",
     "text": [
      "<function <lambda> at 0x109f42160>\n",
      "(<function <lambda>.<locals>.<lambda> at 0x109f420d0>, [1, 2, 3, 4])\n"
     ]
    },
    {
     "data": {
      "text/plain": [
       "2.5"
      ]
     },
     "execution_count": 157,
     "metadata": {},
     "output_type": "execute_result"
    }
   ],
   "source": [
    "a = [1,2,3,4]\n",
    "q = lambda m: (lambda acc,e: acc + e/len(m) ,m)\n",
    "print(q)\n",
    "print(q(a))\n",
    "reduce(*q(a),0)"
   ]
  },
  {
   "cell_type": "code",
   "execution_count": 158,
   "metadata": {},
   "outputs": [
    {
     "data": {
      "text/plain": [
       "2.5"
      ]
     },
     "execution_count": 158,
     "metadata": {},
     "output_type": "execute_result"
    }
   ],
   "source": [
    "reduce(*(lambda m: (lambda acc,e: acc + e/len(m) ,m))([1,2,3,4]),0)"
   ]
  },
  {
   "cell_type": "code",
   "execution_count": 159,
   "metadata": {},
   "outputs": [
    {
     "data": {
      "text/plain": [
       "11"
      ]
     },
     "execution_count": 159,
     "metadata": {},
     "output_type": "execute_result"
    }
   ],
   "source": [
    "hotels = [\n",
    "    {\"name\":\"Ritz\",\"stars\":5},\n",
    "    {\"name\":\"Palace\",\"stars\":4},\n",
    "    {\"name\":\"Pension Puri\",\"stars\":2},\n",
    "]\n",
    "\n",
    "reduce(lambda acc,e: acc+e[\"stars\"] ,hotels,0)"
   ]
  },
  {
   "cell_type": "code",
   "execution_count": 172,
   "metadata": {},
   "outputs": [
    {
     "name": "stdout",
     "output_type": "stream",
     "text": [
      "[0, '🏝', []]\n",
      "[0, '😊', []]\n",
      "[1, '😊', 1]\n",
      "[2, '😊', 2]\n",
      "[3, '😊', 3]\n",
      "[4, '😊', 4]\n",
      "[5, '🏝', 5]\n",
      "[0, '😊', 5]\n",
      "[1, '😊', 1]\n",
      "[2, '🏝', 2]\n",
      "[0, '😊', 2]\n"
     ]
    },
    {
     "data": {
      "text/plain": [
       "[0, '😊', 2]"
      ]
     },
     "execution_count": 172,
     "metadata": {},
     "output_type": "execute_result"
    }
   ],
   "source": [
    "playa = [\"🏝\",\"😊\",\"😊\",\"😊\",\"🏝\",\"😊\",\"🏝\",\"😊\",\"😊\",\"🏝\",\"😊\"]\n",
    "\n",
    "def calcula(acc,e):\n",
    "    if acc[1] == \"😊\":\n",
    "        h = [acc[0]+1,e,acc[0]+1]\n",
    "        if(acc[0]+1 == 3):\n",
    "            h = [acc[0]+1,\"😊\",acc[0]+1]\n",
    "            print(h)\n",
    "            return h\n",
    "        else:\n",
    "            print(h)\n",
    "            return h\n",
    "    else:\n",
    "        m = [0,e,acc[2]]\n",
    "        print(m)\n",
    "        return m\n",
    "\n",
    "reduce(calcula,playa,[0,\"\",[]])"
   ]
  },
  {
   "cell_type": "code",
   "execution_count": null,
   "metadata": {},
   "outputs": [],
   "source": []
  }
 ],
 "metadata": {
  "kernelspec": {
   "display_name": "Python 3",
   "language": "python",
   "name": "python3"
  },
  "language_info": {
   "codemirror_mode": {
    "name": "ipython",
    "version": 3
   },
   "file_extension": ".py",
   "mimetype": "text/x-python",
   "name": "python",
   "nbconvert_exporter": "python",
   "pygments_lexer": "ipython3",
   "version": "3.8.4"
  }
 },
 "nbformat": 4,
 "nbformat_minor": 4
}
