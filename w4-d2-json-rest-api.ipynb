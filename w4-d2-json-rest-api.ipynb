{
 "cells": [
  {
   "cell_type": "code",
   "execution_count": 29,
   "metadata": {},
   "outputs": [
    {
     "name": "stdout",
     "output_type": "stream",
     "text": [
      "3.33\n",
      "3.33\n",
      "3.33\n"
     ]
    }
   ],
   "source": [
    "# Extra: Formatear decimales en python \n",
    "z = 10/3\n",
    "print(\"%.2f\" % z)\n",
    "print(\"{0:.2f}\".format(z))\n",
    "print(f\"{z:.2f}\")"
   ]
  },
  {
   "cell_type": "code",
   "execution_count": 86,
   "metadata": {},
   "outputs": [],
   "source": [
    "# https://requests.readthedocs.io/en/master/\n",
    "# https://pokeapi.co/\n",
    "\n",
    "import requests\n",
    "\n",
    "url = \"https://pokeapi.co/api/v2/pokemon/25\"\n",
    "\n",
    "res = requests.get(url)\n"
   ]
  },
  {
   "cell_type": "code",
   "execution_count": 85,
   "metadata": {},
   "outputs": [
    {
     "name": "stdout",
     "output_type": "stream",
     "text": [
      "{'Date': 'Tue, 08 Sep 2020 11:06:18 GMT', 'Content-Type': 'text/plain; charset=utf-8', 'Content-Length': '9', 'Connection': 'keep-alive', 'Set-Cookie': '__cfduid=da35d1613954fba5edf15f1c892de16531599563177; expires=Thu, 08-Oct-20 11:06:17 GMT; path=/; domain=.pokeapi.co; HttpOnly; SameSite=Lax; Secure', 'Access-Control-Allow-Origin': '*', 'Cache-Control': 'public, max-age=86400, s-maxage=86400', 'Etag': 'W/\"9-0gXL1ngzMqISxa6S1zx3F4wtLyg\"', 'Function-Execution-Id': 'ao0icqw5go5m', 'X-Cloud-Trace-Context': 'edeb6b86af4cfa3907de9a21d8ef2741', 'X-Powered-By': 'Express', 'X-Served-By': 'cache-mad22051-MAD', 'X-Cache': 'MISS', 'X-Cache-Hits': '0', 'X-Timer': 'S1599563178.646196,VS0,VE415', 'Vary': 'Accept-Encoding, x-fh-requested-host, accept-encoding', 'CF-Cache-Status': 'MISS', 'cf-request-id': '050efe369d0000ff34b40a2200000001', 'Expect-CT': 'max-age=604800, report-uri=\"https://report-uri.cloudflare.com/cdn-cgi/beacon/expect-ct\"', 'Server': 'cloudflare', 'CF-RAY': '5cf8330429b5ff34-MAD'}\n",
      "Not Found\n"
     ]
    }
   ],
   "source": [
    "# Response headers (as a python dictionary)\n",
    "print(res.headers)\n",
    "\n",
    "# Response body (as a text string)\n",
    "print(res.text)"
   ]
  },
  {
   "cell_type": "code",
   "execution_count": 9,
   "metadata": {},
   "outputs": [],
   "source": [
    "# https://docs.python.org/3.1/library/json.html\n",
    "import json\n",
    "\n",
    "# JSON FORMAT\n",
    "# - json.loads -> (Parsear/Decodificar) Convertir de texto en formato json a estructuras del lenguaje que lo reciba\n",
    "# - json.dumps -> (Serializar/Codificar) Convertir de estructuras del lenguaje a formato json\n"
   ]
  },
  {
   "cell_type": "code",
   "execution_count": 31,
   "metadata": {},
   "outputs": [
    {
     "name": "stdout",
     "output_type": "stream",
     "text": [
      "\n",
      "    {\n",
      "        \"name\":\"Pepe\",\n",
      "        \"age\": 30,\n",
      "        \"isInstructor\":true\n",
      "    }\n",
      "\n",
      "<class 'str'>\n"
     ]
    },
    {
     "ename": "TypeError",
     "evalue": "string indices must be integers",
     "output_type": "error",
     "traceback": [
      "\u001b[0;31m---------------------------------------------------------------------------\u001b[0m",
      "\u001b[0;31mTypeError\u001b[0m                                 Traceback (most recent call last)",
      "\u001b[0;32m<ipython-input-31-c8ff5c99f9db>\u001b[0m in \u001b[0;36m<module>\u001b[0;34m\u001b[0m\n\u001b[1;32m      9\u001b[0m \u001b[0mprint\u001b[0m\u001b[0;34m(\u001b[0m\u001b[0ma\u001b[0m\u001b[0;34m)\u001b[0m\u001b[0;34m\u001b[0m\u001b[0;34m\u001b[0m\u001b[0m\n\u001b[1;32m     10\u001b[0m \u001b[0mprint\u001b[0m\u001b[0;34m(\u001b[0m\u001b[0mtype\u001b[0m\u001b[0;34m(\u001b[0m\u001b[0ma\u001b[0m\u001b[0;34m)\u001b[0m\u001b[0;34m)\u001b[0m\u001b[0;34m\u001b[0m\u001b[0;34m\u001b[0m\u001b[0m\n\u001b[0;32m---> 11\u001b[0;31m \u001b[0mprint\u001b[0m\u001b[0;34m(\u001b[0m\u001b[0ma\u001b[0m\u001b[0;34m[\u001b[0m\u001b[0;34m\"name\"\u001b[0m\u001b[0;34m]\u001b[0m\u001b[0;34m)\u001b[0m \u001b[0;31m# Error, no podemos hacer esta operacion ya que es un string, antes hay que parsearlo\u001b[0m\u001b[0;34m\u001b[0m\u001b[0;34m\u001b[0m\u001b[0m\n\u001b[0m",
      "\u001b[0;31mTypeError\u001b[0m: string indices must be integers"
     ]
    }
   ],
   "source": [
    "a = \"\"\"\n",
    "    {\n",
    "        \"name\":\"Pepe\",\n",
    "        \"age\": 30,\n",
    "        \"isInstructor\":true\n",
    "    }\n",
    "\"\"\"\n",
    "\n",
    "print(a)\n",
    "print(type(a))\n",
    "print(a[\"name\"]) # Error, no podemos hacer esta operacion ya que es un string, antes hay que parsearlo "
   ]
  },
  {
   "cell_type": "code",
   "execution_count": 30,
   "metadata": {},
   "outputs": [
    {
     "name": "stdout",
     "output_type": "stream",
     "text": [
      "{'name': 'Pepe', 'age': 30, 'isInstructor': True}\n",
      "<class 'dict'>\n",
      "Hola eres Pepe y tienes 30 años\n"
     ]
    }
   ],
   "source": [
    "# Parsear el json\n",
    "\n",
    "b = json.loads(a)\n",
    "print(b)\n",
    "print(type(b))\n",
    "print(f'Hola eres {b[\"name\"]} y tienes {b[\"age\"]} años')\n"
   ]
  },
  {
   "cell_type": "code",
   "execution_count": 35,
   "metadata": {},
   "outputs": [
    {
     "name": "stdout",
     "output_type": "stream",
     "text": [
      "{'name': 'juan', 'edad': 25, 'isInstructor': False}\n",
      "<class 'dict'>\n",
      "{\"name\": \"juan\", \"edad\": 25, \"isInstructor\": false}\n",
      "<class 'str'>\n"
     ]
    }
   ],
   "source": [
    "c = {\n",
    "    \"name\":\"juan\",\n",
    "    \"edad\": 25,\n",
    "    \"isInstructor\":False\n",
    "}\n",
    "\n",
    "print(c)\n",
    "print(type(c))\n",
    "\n",
    "d = json.dumps(c)\n",
    "print(d)\n",
    "print(type(d))"
   ]
  },
  {
   "cell_type": "code",
   "execution_count": 37,
   "metadata": {},
   "outputs": [
    {
     "data": {
      "text/plain": [
       "12.5"
      ]
     },
     "execution_count": 37,
     "metadata": {},
     "output_type": "execute_result"
    }
   ],
   "source": [
    "import numpy as np\n",
    "\n",
    "a = \"\"\"\n",
    "    {\n",
    "        \"name\":\"Pepe\",\n",
    "        \"notas\": [5,10,15,20],\n",
    "        \"isInstructor\":true\n",
    "    }\n",
    "\"\"\"\n",
    "\n",
    "np.mean(json.loads(a)[\"notas\"])"
   ]
  },
  {
   "cell_type": "code",
   "execution_count": 42,
   "metadata": {},
   "outputs": [
    {
     "name": "stdout",
     "output_type": "stream",
     "text": [
      "{'nombre': 'pikachu', 'peso': 60, 'img': 'https://raw.githubusercontent.com/PokeAPI/sprites/master/sprites/pokemon/25.png'}\n"
     ]
    }
   ],
   "source": [
    "res = requests.get(\"https://pokeapi.co/api/v2/pokemon/25\")\n",
    "data = json.loads(res.text)\n",
    "pokemon = {\n",
    "    \"nombre\":data[\"name\"],\n",
    "    \"peso\":data[\"weight\"],\n",
    "    \"img\":data[\"sprites\"][\"front_default\"]\n",
    "}\n",
    "print(pokemon)\n"
   ]
  },
  {
   "cell_type": "code",
   "execution_count": 43,
   "metadata": {},
   "outputs": [],
   "source": [
    "def getPokemonById(id_number):\n",
    "    res = requests.get(f\"https://pokeapi.co/api/v2/pokemon/{id_number}\")\n",
    "    data = json.loads(res.text)\n",
    "    pokemon = {\n",
    "        \"nombre\":data[\"name\"],\n",
    "        \"peso\":data[\"weight\"],\n",
    "        \"img\":data[\"sprites\"][\"front_default\"]\n",
    "    }\n",
    "    return pokemon"
   ]
  },
  {
   "cell_type": "code",
   "execution_count": 44,
   "metadata": {},
   "outputs": [
    {
     "data": {
      "text/plain": [
       "{'nombre': 'pikachu',\n",
       " 'peso': 60,\n",
       " 'img': 'https://raw.githubusercontent.com/PokeAPI/sprites/master/sprites/pokemon/25.png'}"
      ]
     },
     "execution_count": 44,
     "metadata": {},
     "output_type": "execute_result"
    }
   ],
   "source": [
    "getPokemonById(25)"
   ]
  },
  {
   "cell_type": "code",
   "execution_count": 46,
   "metadata": {},
   "outputs": [
    {
     "name": "stdout",
     "output_type": "stream",
     "text": [
      "[{'nombre': 'bulbasaur', 'peso': 69, 'img': 'https://raw.githubusercontent.com/PokeAPI/sprites/master/sprites/pokemon/1.png'}, {'nombre': 'ivysaur', 'peso': 130, 'img': 'https://raw.githubusercontent.com/PokeAPI/sprites/master/sprites/pokemon/2.png'}, {'nombre': 'venusaur', 'peso': 1000, 'img': 'https://raw.githubusercontent.com/PokeAPI/sprites/master/sprites/pokemon/3.png'}, {'nombre': 'charmander', 'peso': 85, 'img': 'https://raw.githubusercontent.com/PokeAPI/sprites/master/sprites/pokemon/4.png'}, {'nombre': 'charmeleon', 'peso': 190, 'img': 'https://raw.githubusercontent.com/PokeAPI/sprites/master/sprites/pokemon/5.png'}, {'nombre': 'charizard', 'peso': 905, 'img': 'https://raw.githubusercontent.com/PokeAPI/sprites/master/sprites/pokemon/6.png'}, {'nombre': 'squirtle', 'peso': 90, 'img': 'https://raw.githubusercontent.com/PokeAPI/sprites/master/sprites/pokemon/7.png'}, {'nombre': 'wartortle', 'peso': 225, 'img': 'https://raw.githubusercontent.com/PokeAPI/sprites/master/sprites/pokemon/8.png'}, {'nombre': 'blastoise', 'peso': 855, 'img': 'https://raw.githubusercontent.com/PokeAPI/sprites/master/sprites/pokemon/9.png'}, {'nombre': 'caterpie', 'peso': 29, 'img': 'https://raw.githubusercontent.com/PokeAPI/sprites/master/sprites/pokemon/10.png'}]\n"
     ]
    }
   ],
   "source": [
    "first_10_poke = [getPokemonById(i+1) for i in range(10)]\n",
    "print(first_10_poke)"
   ]
  },
  {
   "cell_type": "code",
   "execution_count": 51,
   "metadata": {},
   "outputs": [
    {
     "name": "stdout",
     "output_type": "stream",
     "text": [
      "{'nombre': 'pikachu', 'peso': 60, 'img': 'https://raw.githubusercontent.com/PokeAPI/sprites/master/sprites/pokemon/25.png'}\n"
     ]
    }
   ],
   "source": [
    "res = requests.get(f\"https://pokeapi.co/api/v2/pokemon/25\")\n",
    "data = res.json()\n",
    "pokemon = {\n",
    "    \"nombre\":data[\"name\"],\n",
    "    \"peso\":data[\"weight\"],\n",
    "    \"img\":data[\"sprites\"][\"front_default\"]\n",
    "}\n",
    "print(pokemon)"
   ]
  },
  {
   "cell_type": "code",
   "execution_count": 55,
   "metadata": {},
   "outputs": [],
   "source": [
    "def getPokemonById(id_number):\n",
    "    res = requests.get(f\"https://pokeapi.co/api/v2/pokemon/{id_number}\")\n",
    "    data = res.json()\n",
    "    pokemon = {\n",
    "        \"id\": id_number,\n",
    "        \"nombre\":data[\"name\"],\n",
    "        \"peso\":data[\"weight\"],\n",
    "        \"img\":data[\"sprites\"][\"front_default\"]\n",
    "    }\n",
    "    return pokemon"
   ]
  },
  {
   "cell_type": "code",
   "execution_count": 58,
   "metadata": {},
   "outputs": [
    {
     "name": "stdout",
     "output_type": "stream",
     "text": [
      "#1 - bulbasaur (peso:69 kg)\n"
     ]
    },
    {
     "data": {
      "text/html": [
       "<img src=\"https://raw.githubusercontent.com/PokeAPI/sprites/master/sprites/pokemon/1.png\"/>"
      ],
      "text/plain": [
       "<IPython.core.display.Image object>"
      ]
     },
     "metadata": {},
     "output_type": "display_data"
    },
    {
     "name": "stdout",
     "output_type": "stream",
     "text": [
      "#2 - ivysaur (peso:130 kg)\n"
     ]
    },
    {
     "data": {
      "text/html": [
       "<img src=\"https://raw.githubusercontent.com/PokeAPI/sprites/master/sprites/pokemon/2.png\"/>"
      ],
      "text/plain": [
       "<IPython.core.display.Image object>"
      ]
     },
     "metadata": {},
     "output_type": "display_data"
    },
    {
     "name": "stdout",
     "output_type": "stream",
     "text": [
      "#3 - venusaur (peso:1000 kg)\n"
     ]
    },
    {
     "data": {
      "text/html": [
       "<img src=\"https://raw.githubusercontent.com/PokeAPI/sprites/master/sprites/pokemon/3.png\"/>"
      ],
      "text/plain": [
       "<IPython.core.display.Image object>"
      ]
     },
     "metadata": {},
     "output_type": "display_data"
    },
    {
     "name": "stdout",
     "output_type": "stream",
     "text": [
      "#4 - charmander (peso:85 kg)\n"
     ]
    },
    {
     "data": {
      "text/html": [
       "<img src=\"https://raw.githubusercontent.com/PokeAPI/sprites/master/sprites/pokemon/4.png\"/>"
      ],
      "text/plain": [
       "<IPython.core.display.Image object>"
      ]
     },
     "metadata": {},
     "output_type": "display_data"
    },
    {
     "name": "stdout",
     "output_type": "stream",
     "text": [
      "#5 - charmeleon (peso:190 kg)\n"
     ]
    },
    {
     "data": {
      "text/html": [
       "<img src=\"https://raw.githubusercontent.com/PokeAPI/sprites/master/sprites/pokemon/5.png\"/>"
      ],
      "text/plain": [
       "<IPython.core.display.Image object>"
      ]
     },
     "metadata": {},
     "output_type": "display_data"
    },
    {
     "name": "stdout",
     "output_type": "stream",
     "text": [
      "#6 - charizard (peso:905 kg)\n"
     ]
    },
    {
     "data": {
      "text/html": [
       "<img src=\"https://raw.githubusercontent.com/PokeAPI/sprites/master/sprites/pokemon/6.png\"/>"
      ],
      "text/plain": [
       "<IPython.core.display.Image object>"
      ]
     },
     "metadata": {},
     "output_type": "display_data"
    },
    {
     "name": "stdout",
     "output_type": "stream",
     "text": [
      "#7 - squirtle (peso:90 kg)\n"
     ]
    },
    {
     "data": {
      "text/html": [
       "<img src=\"https://raw.githubusercontent.com/PokeAPI/sprites/master/sprites/pokemon/7.png\"/>"
      ],
      "text/plain": [
       "<IPython.core.display.Image object>"
      ]
     },
     "metadata": {},
     "output_type": "display_data"
    },
    {
     "name": "stdout",
     "output_type": "stream",
     "text": [
      "#8 - wartortle (peso:225 kg)\n"
     ]
    },
    {
     "data": {
      "text/html": [
       "<img src=\"https://raw.githubusercontent.com/PokeAPI/sprites/master/sprites/pokemon/8.png\"/>"
      ],
      "text/plain": [
       "<IPython.core.display.Image object>"
      ]
     },
     "metadata": {},
     "output_type": "display_data"
    },
    {
     "name": "stdout",
     "output_type": "stream",
     "text": [
      "#9 - blastoise (peso:855 kg)\n"
     ]
    },
    {
     "data": {
      "text/html": [
       "<img src=\"https://raw.githubusercontent.com/PokeAPI/sprites/master/sprites/pokemon/9.png\"/>"
      ],
      "text/plain": [
       "<IPython.core.display.Image object>"
      ]
     },
     "metadata": {},
     "output_type": "display_data"
    },
    {
     "name": "stdout",
     "output_type": "stream",
     "text": [
      "#10 - caterpie (peso:29 kg)\n"
     ]
    },
    {
     "data": {
      "text/html": [
       "<img src=\"https://raw.githubusercontent.com/PokeAPI/sprites/master/sprites/pokemon/10.png\"/>"
      ],
      "text/plain": [
       "<IPython.core.display.Image object>"
      ]
     },
     "metadata": {},
     "output_type": "display_data"
    }
   ],
   "source": [
    "from IPython.display import Image\n",
    "\n",
    "def printPokemon(poke):\n",
    "    print(f'#{poke[\"id\"]} - {poke[\"nombre\"]} (peso:{p[\"peso\"]} kg)')\n",
    "    display(Image(url=poke[\"img\"]))\n",
    "    \n",
    "first_10_poke = [getPokemonById(i+1) for i in range(10)]\n",
    "\n",
    "for p in first_10_poke:\n",
    "    printPokemon(p)"
   ]
  },
  {
   "cell_type": "code",
   "execution_count": 59,
   "metadata": {},
   "outputs": [
    {
     "name": "stdout",
     "output_type": "stream",
     "text": [
      "#1 - bulbasaur (peso:29 kg)\n"
     ]
    },
    {
     "data": {
      "text/html": [
       "<img src=\"https://raw.githubusercontent.com/PokeAPI/sprites/master/sprites/pokemon/1.png\"/>"
      ],
      "text/plain": [
       "<IPython.core.display.Image object>"
      ]
     },
     "metadata": {},
     "output_type": "display_data"
    },
    {
     "name": "stdout",
     "output_type": "stream",
     "text": [
      "#2 - ivysaur (peso:29 kg)\n"
     ]
    },
    {
     "data": {
      "text/html": [
       "<img src=\"https://raw.githubusercontent.com/PokeAPI/sprites/master/sprites/pokemon/2.png\"/>"
      ],
      "text/plain": [
       "<IPython.core.display.Image object>"
      ]
     },
     "metadata": {},
     "output_type": "display_data"
    },
    {
     "name": "stdout",
     "output_type": "stream",
     "text": [
      "#3 - venusaur (peso:29 kg)\n"
     ]
    },
    {
     "data": {
      "text/html": [
       "<img src=\"https://raw.githubusercontent.com/PokeAPI/sprites/master/sprites/pokemon/3.png\"/>"
      ],
      "text/plain": [
       "<IPython.core.display.Image object>"
      ]
     },
     "metadata": {},
     "output_type": "display_data"
    },
    {
     "name": "stdout",
     "output_type": "stream",
     "text": [
      "#4 - charmander (peso:29 kg)\n"
     ]
    },
    {
     "data": {
      "text/html": [
       "<img src=\"https://raw.githubusercontent.com/PokeAPI/sprites/master/sprites/pokemon/4.png\"/>"
      ],
      "text/plain": [
       "<IPython.core.display.Image object>"
      ]
     },
     "metadata": {},
     "output_type": "display_data"
    },
    {
     "name": "stdout",
     "output_type": "stream",
     "text": [
      "#5 - charmeleon (peso:29 kg)\n"
     ]
    },
    {
     "data": {
      "text/html": [
       "<img src=\"https://raw.githubusercontent.com/PokeAPI/sprites/master/sprites/pokemon/5.png\"/>"
      ],
      "text/plain": [
       "<IPython.core.display.Image object>"
      ]
     },
     "metadata": {},
     "output_type": "display_data"
    },
    {
     "name": "stdout",
     "output_type": "stream",
     "text": [
      "#6 - charizard (peso:29 kg)\n"
     ]
    },
    {
     "data": {
      "text/html": [
       "<img src=\"https://raw.githubusercontent.com/PokeAPI/sprites/master/sprites/pokemon/6.png\"/>"
      ],
      "text/plain": [
       "<IPython.core.display.Image object>"
      ]
     },
     "metadata": {},
     "output_type": "display_data"
    },
    {
     "name": "stdout",
     "output_type": "stream",
     "text": [
      "#7 - squirtle (peso:29 kg)\n"
     ]
    },
    {
     "data": {
      "text/html": [
       "<img src=\"https://raw.githubusercontent.com/PokeAPI/sprites/master/sprites/pokemon/7.png\"/>"
      ],
      "text/plain": [
       "<IPython.core.display.Image object>"
      ]
     },
     "metadata": {},
     "output_type": "display_data"
    },
    {
     "name": "stdout",
     "output_type": "stream",
     "text": [
      "#8 - wartortle (peso:29 kg)\n"
     ]
    },
    {
     "data": {
      "text/html": [
       "<img src=\"https://raw.githubusercontent.com/PokeAPI/sprites/master/sprites/pokemon/8.png\"/>"
      ],
      "text/plain": [
       "<IPython.core.display.Image object>"
      ]
     },
     "metadata": {},
     "output_type": "display_data"
    },
    {
     "name": "stdout",
     "output_type": "stream",
     "text": [
      "#9 - blastoise (peso:29 kg)\n"
     ]
    },
    {
     "data": {
      "text/html": [
       "<img src=\"https://raw.githubusercontent.com/PokeAPI/sprites/master/sprites/pokemon/9.png\"/>"
      ],
      "text/plain": [
       "<IPython.core.display.Image object>"
      ]
     },
     "metadata": {},
     "output_type": "display_data"
    },
    {
     "name": "stdout",
     "output_type": "stream",
     "text": [
      "#10 - caterpie (peso:29 kg)\n"
     ]
    },
    {
     "data": {
      "text/html": [
       "<img src=\"https://raw.githubusercontent.com/PokeAPI/sprites/master/sprites/pokemon/10.png\"/>"
      ],
      "text/plain": [
       "<IPython.core.display.Image object>"
      ]
     },
     "metadata": {},
     "output_type": "display_data"
    },
    {
     "data": {
      "text/plain": [
       "[None, None, None, None, None, None, None, None, None, None]"
      ]
     },
     "execution_count": 59,
     "metadata": {},
     "output_type": "execute_result"
    }
   ],
   "source": [
    "[printPokemon(getPokemonById(i+1)) for i in range(10)]"
   ]
  },
  {
   "cell_type": "code",
   "execution_count": 65,
   "metadata": {},
   "outputs": [],
   "source": [
    "# github API v3\n",
    "# https://docs.github.com/en/rest\n",
    "\n",
    "def get_gh(endpoint):\n",
    "    \n",
    "    # Compose the endpoint url\n",
    "    baseUrl = \"https://api.github.com\"\n",
    "    url = f\"{baseUrl}{endpoint}\"\n",
    "    print(f\"Request data to {url}\")\n",
    "\n",
    "    # make the request and get the response using HTTP GET verb \n",
    "    res = requests.get(url)\n",
    "    data = res.json()\n",
    "    return data\n",
    "    "
   ]
  },
  {
   "cell_type": "code",
   "execution_count": 69,
   "metadata": {},
   "outputs": [
    {
     "name": "stdout",
     "output_type": "stream",
     "text": [
      "Request data to https://api.github.com/orgs/ironhack-datalabs/repos\n",
      "['lab-erd', 'lab-mysql', 'mad-oct-2018', 'scavenger', 'datamad0119', 'lab-data-vikings', 'bcn-feb-2019', 'bcn-feb-2019-prework', 'par-apr-2019-prework', 'mex-jul-2019-prework', 'datamad0419', 'datamad0419-pt', 'databcn0519-pt', 'databer0619', 'datamia0619', 'datamad0619', 'databer0619-solutions', 'datalis0819', 'datamia0819', 'datamad0819', 'dataV2-labs', 'data-ber-10-19', 'datamex1019', 'datamia1019', 'datamad1019', 'lab-advance-querying-mongo', 'data-ber-01-20', 'datamex0120', 'datamad0120', 'data-ber-03-20']\n",
      "30\n"
     ]
    }
   ],
   "source": [
    "repos = get_gh(\"/orgs/ironhack-datalabs/repos\")\n",
    "result = [repo[\"name\"] for repo in repos]\n",
    "print(result)\n",
    "print(len(result))"
   ]
  },
  {
   "cell_type": "code",
   "execution_count": 71,
   "metadata": {},
   "outputs": [
    {
     "name": "stdout",
     "output_type": "stream",
     "text": [
      "Request data to https://api.github.com/orgs/ironhack-datalabs/repos?page=2\n",
      "['datamex0320', 'datamad0320', 'data-ber-06-20', 'datamad0620', 'data-ber-08-20', 'datamad0820', 'data-pt-ber-08-20']\n",
      "7\n"
     ]
    }
   ],
   "source": [
    "repos = get_gh(\"/orgs/ironhack-datalabs/repos?page=2\") # \"?page=1\" This is a QUERY PARAMETER\n",
    "result = [repo[\"name\"] for repo in repos]\n",
    "print(result)\n",
    "print(len(result))"
   ]
  },
  {
   "cell_type": "code",
   "execution_count": 73,
   "metadata": {},
   "outputs": [
    {
     "name": "stdout",
     "output_type": "stream",
     "text": [
      "Request data to https://api.github.com/orgs/ironhack-datalabs/repos?page=1&per_page=100\n",
      "['lab-erd', 'lab-mysql', 'mad-oct-2018', 'scavenger', 'datamad0119', 'lab-data-vikings', 'bcn-feb-2019', 'bcn-feb-2019-prework', 'par-apr-2019-prework', 'mex-jul-2019-prework', 'datamad0419', 'datamad0419-pt', 'databcn0519-pt', 'databer0619', 'datamia0619', 'datamad0619', 'databer0619-solutions', 'datalis0819', 'datamia0819', 'datamad0819', 'dataV2-labs', 'data-ber-10-19', 'datamex1019', 'datamia1019', 'datamad1019', 'lab-advance-querying-mongo', 'data-ber-01-20', 'datamex0120', 'datamad0120', 'data-ber-03-20', 'datamex0320', 'datamad0320', 'data-ber-06-20', 'datamad0620', 'data-ber-08-20', 'datamad0820', 'data-pt-ber-08-20']\n",
      "37\n"
     ]
    }
   ],
   "source": [
    "repos = get_gh(\"/orgs/ironhack-datalabs/repos?page=1&per_page=100\") # \"?page=1\" This is a QUERY PARAMETER\n",
    "result = [repo[\"name\"] for repo in repos]\n",
    "print(result)\n",
    "print(len(result))"
   ]
  },
  {
   "cell_type": "code",
   "execution_count": 87,
   "metadata": {},
   "outputs": [],
   "source": [
    "def get_gh_v2(endpoint, query_params={}): \n",
    "    \"\"\"\n",
    "    Get data from github using query parameters\n",
    "    \"\"\"\n",
    "    \n",
    "    # Compose the endpoint url\n",
    "    baseUrl = \"https://api.github.com\"\n",
    "    url = f\"{baseUrl}{endpoint}\"\n",
    "\n",
    "    # make the request and get the response using HTTP GET verb \n",
    "    res = requests.get(url, params=query_params)\n",
    "    print(f\"Request data to {res.url} status_code:{res.status_code}\")\n",
    "    print(res)\n",
    "    \n",
    "    data = res.json()\n",
    "    return data"
   ]
  },
  {
   "cell_type": "code",
   "execution_count": 88,
   "metadata": {},
   "outputs": [
    {
     "name": "stdout",
     "output_type": "stream",
     "text": [
      "Request data to https://api.github.com/orgs/ironhack-datalabs/repos?page=1&per_page=100 status_code:200\n",
      "<Response [200]>\n",
      "['lab-erd', 'lab-mysql', 'mad-oct-2018', 'scavenger', 'datamad0119', 'lab-data-vikings', 'bcn-feb-2019', 'bcn-feb-2019-prework', 'par-apr-2019-prework', 'mex-jul-2019-prework', 'datamad0419', 'datamad0419-pt', 'databcn0519-pt', 'databer0619', 'datamia0619', 'datamad0619', 'databer0619-solutions', 'datalis0819', 'datamia0819', 'datamad0819', 'dataV2-labs', 'data-ber-10-19', 'datamex1019', 'datamia1019', 'datamad1019', 'lab-advance-querying-mongo', 'data-ber-01-20', 'datamex0120', 'datamad0120', 'data-ber-03-20', 'datamex0320', 'datamad0320', 'data-ber-06-20', 'datamad0620', 'data-ber-08-20', 'datamad0820', 'data-pt-ber-08-20']\n",
      "37\n"
     ]
    }
   ],
   "source": [
    "\n",
    "params = {\n",
    "    \"page\":1,\n",
    "    \"per_page\":100\n",
    "    \n",
    "}\n",
    "repos = get_gh_v2(\"/orgs/ironhack-datalabs/repos\",query_params=params) # \"?page=1\" This is a QUERY PARAMETER\n",
    "result = [repo[\"name\"] for repo in repos]\n",
    "print(result)\n",
    "print(len(result))"
   ]
  },
  {
   "cell_type": "code",
   "execution_count": 89,
   "metadata": {},
   "outputs": [
    {
     "name": "stdout",
     "output_type": "stream",
     "text": [
      "Request data to https://api.github.com/user status_code:401\n",
      "<Response [401]>\n"
     ]
    },
    {
     "data": {
      "text/plain": [
       "{'message': 'Requires authentication',\n",
       " 'documentation_url': 'https://docs.github.com/rest/reference/users#get-the-authenticated-user'}"
      ]
     },
     "execution_count": 89,
     "metadata": {},
     "output_type": "execute_result"
    }
   ],
   "source": [
    "# Understanding status codes -> https://http.cat/\n",
    "get_gh_v2(\"/user\")"
   ]
  },
  {
   "cell_type": "code",
   "execution_count": 95,
   "metadata": {},
   "outputs": [],
   "source": [
    "# https://pypi.org/project/python-dotenv/\n",
    "import os\n",
    "from dotenv import load_dotenv\n",
    "load_dotenv()\n",
    "\n",
    "def get_gh_v3(endpoint, apiKey=os.getenv(\"GITHUB_APIKEY\"), query_params={}): \n",
    "    \"\"\"\n",
    "    Get data from github using query parameters and passing a custom apikey header\n",
    "    \"\"\"\n",
    "    \n",
    "    # Compose the endpoint url\n",
    "    baseUrl = \"https://api.github.com\"\n",
    "    url = f\"{baseUrl}{endpoint}\"\n",
    "\n",
    "    # Create the headers\n",
    "    headers = {\n",
    "        \"Authorization\": f\"Bearer {apiKey}\"\n",
    "    }\n",
    "    # make the request and get the response using HTTP GET verb \n",
    "    res = requests.get(url, params=query_params, headers=headers)\n",
    "    print(f\"Request data to {res.url} status_code:{res.status_code}\")\n",
    "    \n",
    "    data = res.json()\n",
    "    return data\n",
    "\n"
   ]
  },
  {
   "cell_type": "code",
   "execution_count": 113,
   "metadata": {},
   "outputs": [
    {
     "name": "stdout",
     "output_type": "stream",
     "text": [
      "Request data to https://api.github.com/user/repos?per_page=100&visibility=public status_code:200\n",
      "['ActionBarSherlock', 'AFOAuth2Client', 'angular-lectures', 'apav', 'Arduino-Bluetooth', 'asyncio-workshop', 'community', 'coredns', 'datamad0620', 'datamad0820', 'DayNight-Detector', 'demo-scavengers', 'django-nginx-memcache', 'django-oauth2-provider', 'funnyclock', 'generator', 'groove-dl', 'GstreamerSample', 'identifier-frontend-samplecode', 'ironmadrid-hall-of-fame', 'kubernetiiiss', 'lab-advance-querying-mongo', 'lab-image-segmentation', 'lab-javascript-chronometer', 'machine-learning', 'mosh', 'neural-nets', 'next.js', 'pacman', 'PartyLine', 'pokeapi-promises', 'PracticasMPomar', 'probability', 'pselect', 'puterizer', 'random-partner', 'react-chat-socket.io', 'react-redux-1019', 'react-websockets-chat', 'redis-coredns-store', 'redsys-polite', 'redux-example', 'relay-examples', 'runpyspark', 'sentiment_analysis', 'slotmachine', 'spotify-web-api-node', 'swr', 'teaching-cm-ping-pong', 'teaching-phaser-button-example', 'ThePunchGame', 'webdev-pt-1019', 'yargs', 'youtube-dl', 'infantium-sdk-docs', 'lab-avila-bible', 'air', 'docs', 'flogg', 'fserv', 'deep-stereo', 'bcn-feb-2019', 'bcn-feb-2019-prework', 'data-ber-01-20', 'data-ber-03-20', 'data-ber-06-20', 'data-ber-08-20', 'data-ber-10-19', 'data-pt-ber-08-20', 'databcn0519-pt', 'databer0619', 'databer0619-solutions', 'datalis0819', 'datamad0119', 'datamad0120', 'datamad0320', 'datamad0419', 'datamad0419-pt', 'datamad0619', 'datamad0620', 'datamad0819', 'datamad0820', 'datamad1019', 'datamex0120', 'datamex0320', 'datamex1019', 'datamia0619', 'datamia0819', 'datamia1019', 'dataV2-labs', 'lab-advance-querying-mongo', 'lab-data-vikings', 'lab-erd', 'lab-mysql', 'mad-oct-2018', 'mex-jul-2019-prework', 'par-apr-2019-prework', 'scavenger', 'angular-workshop', 'blank-demo']\n",
      "100\n"
     ]
    }
   ],
   "source": [
    "data = get_gh_v3(\"/user/repos\",query_params={\"per_page\":100,\"visibility\":\"public\"})\n",
    "repos = [d[\"name\"] for d in data]\n",
    "print(repos)\n",
    "print(len(repos))"
   ]
  },
  {
   "cell_type": "code",
   "execution_count": 114,
   "metadata": {},
   "outputs": [
    {
     "name": "stdout",
     "output_type": "stream",
     "text": [
      "Request data to https://api.github.com/user/repos?per_page=100&visibility=public&type=public status_code:422\n",
      "{'message': 'If you specify visibility or affiliation, you cannot specify type.', 'documentation_url': 'https://docs.github.com/rest/reference/repos#list-repositories-for-the-authenticated-user'}\n"
     ]
    }
   ],
   "source": [
    "data = get_gh_v3(\"/user/repos\",query_params={\"per_page\":100,\"visibility\":\"public\",\"type\":\"public\"})\n",
    "print(data)\n"
   ]
  },
  {
   "cell_type": "code",
   "execution_count": 120,
   "metadata": {},
   "outputs": [],
   "source": [
    "def get_gh_v4(endpoint, apiKey=os.getenv(\"GITHUB_APIKEY\"), query_params={}): \n",
    "    \"\"\"\n",
    "    Get data from github using query parameters and passing a custom apikey header\n",
    "    \"\"\"\n",
    "    \n",
    "    # Compose the endpoint url\n",
    "    baseUrl = \"https://api.github.com\"\n",
    "    url = f\"{baseUrl}{endpoint}\"\n",
    "\n",
    "    # Create the headers\n",
    "    headers = {\n",
    "        \"Authorization\": f\"Bearer {apiKey}\"\n",
    "    }\n",
    "    # make the request and get the response using HTTP GET verb \n",
    "    res = requests.get(url, params=query_params, headers=headers)\n",
    "   \n",
    "    print(f\"Request data to {res.url} status_code:{res.status_code}\")\n",
    "    data = res.json()\n",
    "    \n",
    "    if res.status_code != 200:\n",
    "        raise ValueError(f'Invalid github api call: {data[\"message\"]}')\n",
    "\n",
    "    return data\n"
   ]
  },
  {
   "cell_type": "code",
   "execution_count": 121,
   "metadata": {},
   "outputs": [
    {
     "name": "stdout",
     "output_type": "stream",
     "text": [
      "Request data to https://api.github.com/user/repos?per_page=100&visibility=public&type=public status_code:422\n"
     ]
    },
    {
     "ename": "ValueError",
     "evalue": "Invalid github api call: If you specify visibility or affiliation, you cannot specify type.",
     "output_type": "error",
     "traceback": [
      "\u001b[0;31m---------------------------------------------------------------------------\u001b[0m",
      "\u001b[0;31mValueError\u001b[0m                                Traceback (most recent call last)",
      "\u001b[0;32m<ipython-input-121-58ec0d9346a9>\u001b[0m in \u001b[0;36m<module>\u001b[0;34m\u001b[0m\n\u001b[0;32m----> 1\u001b[0;31m \u001b[0mdata\u001b[0m \u001b[0;34m=\u001b[0m \u001b[0mget_gh_v4\u001b[0m\u001b[0;34m(\u001b[0m\u001b[0;34m\"/user/repos\"\u001b[0m\u001b[0;34m,\u001b[0m\u001b[0mquery_params\u001b[0m\u001b[0;34m=\u001b[0m\u001b[0;34m{\u001b[0m\u001b[0;34m\"per_page\"\u001b[0m\u001b[0;34m:\u001b[0m\u001b[0;36m100\u001b[0m\u001b[0;34m,\u001b[0m\u001b[0;34m\"visibility\"\u001b[0m\u001b[0;34m:\u001b[0m\u001b[0;34m\"public\"\u001b[0m\u001b[0;34m,\u001b[0m\u001b[0;34m\"type\"\u001b[0m\u001b[0;34m:\u001b[0m\u001b[0;34m\"public\"\u001b[0m\u001b[0;34m}\u001b[0m\u001b[0;34m)\u001b[0m\u001b[0;34m\u001b[0m\u001b[0;34m\u001b[0m\u001b[0m\n\u001b[0m\u001b[1;32m      2\u001b[0m \u001b[0mprint\u001b[0m\u001b[0;34m(\u001b[0m\u001b[0mdata\u001b[0m\u001b[0;34m)\u001b[0m\u001b[0;34m\u001b[0m\u001b[0;34m\u001b[0m\u001b[0m\n",
      "\u001b[0;32m<ipython-input-120-bc9ff72f9209>\u001b[0m in \u001b[0;36mget_gh_v4\u001b[0;34m(endpoint, apiKey, query_params)\u001b[0m\n\u001b[1;32m     19\u001b[0m \u001b[0;34m\u001b[0m\u001b[0m\n\u001b[1;32m     20\u001b[0m     \u001b[0;32mif\u001b[0m \u001b[0mres\u001b[0m\u001b[0;34m.\u001b[0m\u001b[0mstatus_code\u001b[0m \u001b[0;34m!=\u001b[0m \u001b[0;36m200\u001b[0m\u001b[0;34m:\u001b[0m\u001b[0;34m\u001b[0m\u001b[0;34m\u001b[0m\u001b[0m\n\u001b[0;32m---> 21\u001b[0;31m         \u001b[0;32mraise\u001b[0m \u001b[0mValueError\u001b[0m\u001b[0;34m(\u001b[0m\u001b[0;34mf'Invalid github api call: {data[\"message\"]}'\u001b[0m\u001b[0;34m)\u001b[0m\u001b[0;34m\u001b[0m\u001b[0;34m\u001b[0m\u001b[0m\n\u001b[0m\u001b[1;32m     22\u001b[0m \u001b[0;34m\u001b[0m\u001b[0m\n\u001b[1;32m     23\u001b[0m     \u001b[0;32mreturn\u001b[0m \u001b[0mdata\u001b[0m\u001b[0;34m\u001b[0m\u001b[0;34m\u001b[0m\u001b[0m\n",
      "\u001b[0;31mValueError\u001b[0m: Invalid github api call: If you specify visibility or affiliation, you cannot specify type."
     ]
    }
   ],
   "source": [
    "data = get_gh_v4(\"/user/repos\",query_params={\"per_page\":100,\"visibility\":\"public\",\"type\":\"public\"})\n",
    "print(data)\n"
   ]
  },
  {
   "cell_type": "code",
   "execution_count": null,
   "metadata": {},
   "outputs": [],
   "source": []
  }
 ],
 "metadata": {
  "kernelspec": {
   "display_name": "Python 3",
   "language": "python",
   "name": "python3"
  },
  "language_info": {
   "codemirror_mode": {
    "name": "ipython",
    "version": 3
   },
   "file_extension": ".py",
   "mimetype": "text/x-python",
   "name": "python",
   "nbconvert_exporter": "python",
   "pygments_lexer": "ipython3",
   "version": "3.8.4"
  }
 },
 "nbformat": 4,
 "nbformat_minor": 4
}
