{
 "cells": [
  {
   "cell_type": "code",
   "execution_count": 7,
   "metadata": {},
   "outputs": [
    {
     "data": {
      "text/plain": [
       "False"
      ]
     },
     "execution_count": 7,
     "metadata": {},
     "output_type": "execute_result"
    }
   ],
   "source": [
    "a = set([1,2,3])\n",
    "b = set([3,4,5])\n",
    "\n",
    "a.union(b)\n",
    "a.difference(b)\n",
    "a.issubset(b)"
   ]
  },
  {
   "cell_type": "code",
   "execution_count": 8,
   "metadata": {},
   "outputs": [
    {
     "data": {
      "text/plain": [
       "True"
      ]
     },
     "execution_count": 8,
     "metadata": {},
     "output_type": "execute_result"
    }
   ],
   "source": [
    "a = set([1,2,3])\n",
    "b = set([1,2,3,4,5])\n",
    "\n",
    "a.union(b)\n",
    "a.difference(b)\n",
    "a.issubset(b)"
   ]
  },
  {
   "cell_type": "markdown",
   "metadata": {},
   "source": [
    "Variance: The average of the squared differences from the Mean.\n",
    "\n",
    "1. Work out the Mean (the simple average of the numbers)\n",
    "2. Then for each number: subtract the Mean and square the result (the squared difference).\n",
    "3. Then work out the average of those squared differences."
   ]
  },
  {
   "cell_type": "code",
   "execution_count": 13,
   "metadata": {},
   "outputs": [
    {
     "name": "stdout",
     "output_type": "stream",
     "text": [
      "media 18.1\n",
      "squared diff [171.61000000000004, 171.61000000000004, 171.61000000000004, 171.61000000000004, 171.61000000000004, 65.61000000000003, 37.210000000000015, 16.810000000000013, 3.6099999999999945, 6707.610000000001]\n",
      "varianza 768.8900000000001\n",
      "var numpy 768.8900000000001\n",
      "std 27.728865826066528\n",
      "std manual 27.728865826066528\n"
     ]
    }
   ],
   "source": [
    "# Calc variance\n",
    "import math\n",
    "import numpy as np\n",
    "\n",
    "a = [5,5,5,5,5,10,12,14,20,100]\n",
    "\n",
    "mean = np.mean(a)\n",
    "print(\"media\",mean)\n",
    "squared_difference = [(e-mean)**2 for e in a]\n",
    "print(\"squared diff\",squared_difference)\n",
    "\n",
    "var = np.mean(squared_difference)\n",
    "print(\"varianza\",var)\n",
    "print(\"var numpy\", np.var(a))\n",
    "print(\"std\",np.std(a))\n",
    "print(\"std manual\",math.sqrt(var))\n"
   ]
  },
  {
   "cell_type": "code",
   "execution_count": 15,
   "metadata": {},
   "outputs": [
    {
     "name": "stdout",
     "output_type": "stream",
     "text": [
      "[0.54134817 0.37529448 0.77754984 0.68286108 0.76157312 0.96918785\n",
      " 0.0464058  0.75503692 0.56869052 0.87674962]\n",
      "0.4993091154703912\n",
      "Variance:0.083 Standard Deviation:0.287 \n"
     ]
    }
   ],
   "source": [
    "X = np.random.random(100000)\n",
    "print(X[:10])\n",
    "print(X.mean())\n",
    "var = np.round(X.var(),decimals=3)\n",
    "std = np.round(X.std(),decimals=3)\n",
    "\n",
    "print(f\"Variance:{var} Standard Deviation:{std} \")"
   ]
  },
  {
   "cell_type": "code",
   "execution_count": 25,
   "metadata": {},
   "outputs": [
    {
     "name": "stdout",
     "output_type": "stream",
     "text": [
      "[0.  0.2 0.4 0.6 0.8 1. ]\n"
     ]
    },
    {
     "name": "stderr",
     "output_type": "stream",
     "text": [
      "<ipython-input-25-4fc106302e01>:7: UserWarning: In Matplotlib 3.3 individual lines on a stem plot will be added as a LineCollection instead of individual lines. This significantly improves the performance of a stem plot. To remove this warning and switch to the new behaviour, set the \"use_line_collection\" keyword argument to True.\n",
      "  plt.stem(a,[1/6]*6)\n"
     ]
    },
    {
     "data": {
      "text/plain": [
       "<StemContainer object of 3 artists>"
      ]
     },
     "execution_count": 25,
     "metadata": {},
     "output_type": "execute_result"
    },
    {
     "data": {
      "image/png": "[encoded data removed]",
      "text/plain": [
       "<Figure size 432x288 with 1 Axes>"
      ]
     },
     "metadata": {
      "needs_background": "light"
     },
     "output_type": "display_data"
    }
   ],
   "source": [
    "import matplotlib.pyplot as plt\n",
    "import numpy as np\n",
    "\n",
    "a = np.linspace(0,1,6)\n",
    "print(a)\n",
    "\n",
    "plt.stem(a,[1/6]*6)"
   ]
  },
  {
   "cell_type": "code",
   "execution_count": 26,
   "metadata": {},
   "outputs": [
    {
     "name": "stdout",
     "output_type": "stream",
     "text": [
      "CDF at 0.3333333333333333 = 0.3333333333333333\n"
     ]
    }
   ],
   "source": [
    "from scipy.stats import uniform\n",
    "x = 2/6\n",
    "cdf = uniform.cdf(x, loc=0)\n",
    "print(f\"CDF at {x} = {cdf}\")"
   ]
  },
  {
   "cell_type": "code",
   "execution_count": 30,
   "metadata": {},
   "outputs": [
    {
     "name": "stdout",
     "output_type": "stream",
     "text": [
      "[-1.         -0.84210526 -0.68421053 -0.52631579 -0.36842105 -0.21052632\n",
      " -0.05263158  0.10526316  0.26315789  0.42105263  0.57894737  0.73684211\n",
      "  0.89473684  1.05263158  1.21052632  1.36842105  1.52631579  1.68421053\n",
      "  1.84210526  2.        ]\n",
      "[0.         0.         0.         0.         0.         0.\n",
      " 0.         0.10526316 0.26315789 0.42105263 0.57894737 0.73684211\n",
      " 0.89473684 1.         1.         1.         1.         1.\n",
      " 1.         1.        ]\n"
     ]
    },
    {
     "data": {
      "text/plain": [
       "[<matplotlib.lines.Line2D at 0x1244f1790>]"
      ]
     },
     "execution_count": 30,
     "metadata": {},
     "output_type": "execute_result"
    },
    {
     "data": {
      "image/png": "[encoded data removed]",
      "text/plain": [
       "<Figure size 432x288 with 1 Axes>"
      ]
     },
     "metadata": {
      "needs_background": "light"
     },
     "output_type": "display_data"
    }
   ],
   "source": [
    "v = np.linspace(-1,2,20)\n",
    "print(v)\n",
    "X = uniform.cdf(v)\n",
    "print(X)\n",
    "plt.title(\"CDF (cummulative distribution function) variable X con distribución uniforme\")\n",
    "plt.plot(v,X)"
   ]
  },
  {
   "cell_type": "code",
   "execution_count": 31,
   "metadata": {},
   "outputs": [],
   "source": [
    "%matplotlib inline\n",
    "import numpy as np\n",
    "import matplotlib.pyplot as plt\n",
    "import seaborn as sns"
   ]
  },
  {
   "cell_type": "code",
   "execution_count": 32,
   "metadata": {},
   "outputs": [
    {
     "name": "stdout",
     "output_type": "stream",
     "text": [
      "-8.675007250188488 8.584068655300866\n",
      "4\n"
     ]
    },
    {
     "data": {
      "image/png": "[encoded data removed]",
      "text/plain": [
       "<Figure size 720x144 with 2 Axes>"
      ]
     },
     "metadata": {
      "needs_background": "light"
     },
     "output_type": "display_data"
    }
   ],
   "source": [
    "\n",
    "# Random variable X (samples from Normal distribution)\n",
    "X = np.random.normal(size=100000, scale=2)\n",
    "print(X.min(),X.max())\n",
    "print((X > 8).sum())\n",
    "# Check that the distribution is normal\n",
    "plt.figure(figsize=(10,2))\n",
    "plt.subplot(1,2,1)\n",
    "plt.stem(X,use_line_collection=True)\n",
    "plt.subplot(1,2,2)\n",
    "plt.hist(X,bins=100)\n",
    "plt.show()"
   ]
  },
  {
   "cell_type": "code",
   "execution_count": 43,
   "metadata": {},
   "outputs": [
    {
     "name": "stdout",
     "output_type": "stream",
     "text": [
      "[0.16720537 0.69326017 0.95995591 0.08524757 0.51429024 0.55465592\n",
      " 0.82084225 0.80093601 0.56588601 0.81820341]\n"
     ]
    },
    {
     "data": {
      "image/png": "[encoded data removed]",
      "text/plain": [
       "<Figure size 432x288 with 1 Axes>"
      ]
     },
     "metadata": {
      "needs_background": "light"
     },
     "output_type": "display_data"
    }
   ],
   "source": [
    "# Sacar 10 samples de una variable continua uniforme entre 0 y 1\n",
    "m = np.random.random(100000)\n",
    "print(m[0:10])\n",
    "plt.hist(m,bins=10)\n",
    "plt.show()"
   ]
  },
  {
   "cell_type": "code",
   "execution_count": 66,
   "metadata": {},
   "outputs": [
    {
     "name": "stdout",
     "output_type": "stream",
     "text": [
      "media 0.13489093201570873\n",
      "desviacion tipica 4.003269328332174\n",
      "-7.854449055740497 13.718631740008014\n",
      "[-0.86136304 -0.69995042 -4.17922956 -7.85444906 -3.71529009  1.17213811\n",
      "  0.17440694 -6.45431661 -0.63439362  8.03166537 -1.46178591  1.63556067\n",
      " -0.85709745  2.24502352  3.38754886 -2.43417673 -3.50756044  7.26185549\n",
      " -5.56203396 -7.06771852  6.5104882   2.87572366  3.11474737  6.17706326\n",
      " -0.78383373 -3.05679521  3.8215923   1.0464517   2.53771997 -3.92325681\n",
      "  0.09743662 -3.05065079  0.71315643  3.83803412 -1.68152695 -3.71682086\n",
      " -1.35945849 -0.56824971  4.42897367 -0.15573965 -1.39103956  1.39863536\n",
      " -4.04492405 -0.59155797 -2.74181567  5.16899345 -3.02909566 -7.24875179\n",
      " -2.69939365  1.03228196 -4.79008288 -2.18124941 -4.6479602  -0.39988684\n",
      " -1.69661891  1.24817183 -6.73050682  7.48335808  1.93086853 -5.15164808\n",
      " -2.61130409 -0.1261099   6.48147616  3.19148264 -0.23841743  2.65279576\n",
      "  0.24194064 -0.92959157 -2.40811846  1.77832692  1.21894838  2.60878205\n",
      " -0.76089034  1.24479107  3.2730961  -6.49586694  5.17229987  1.02183937\n",
      "  7.06483925  4.57608376 -2.38383804  0.96456965  5.47667071 -1.53920909\n",
      "  3.26024242 -2.69913388  3.74501102  0.63342487 -5.53015836 -0.49866996\n",
      "  2.91155694 -4.36346394  7.14296781 -5.54337706  0.69290234 13.71863174\n",
      "  6.61273279 -0.21179007 -4.63297932  2.37493299]\n"
     ]
    }
   ],
   "source": [
    "X = np.random.normal(size=100,scale=4)\n",
    "print(\"media\",np.mean(X))\n",
    "print(\"desviacion tipica\",np.std(X))\n",
    "print(np.min(X),np.max(X))\n",
    "print(X)"
   ]
  },
  {
   "cell_type": "code",
   "execution_count": 76,
   "metadata": {},
   "outputs": [
    {
     "name": "stdout",
     "output_type": "stream",
     "text": [
      "0.929979443556066 8.865296336509862\n",
      "68.06\n"
     ]
    },
    {
     "data": {
      "image/png": "[encoded data removed]",
      "text/plain": [
       "<Figure size 720x144 with 2 Axes>"
      ]
     },
     "metadata": {
      "needs_background": "light"
     },
     "output_type": "display_data"
    }
   ],
   "source": [
    "# Random variable X (samples from Normal distribution)\n",
    "total_samples = 10000\n",
    "X = np.random.normal(size=total_samples, scale=1) + 5\n",
    "print(X.min(),X.max())\n",
    "print(((X > 4) & (X < 6)).sum()/total_samples * 100)\n",
    "\n",
    "# Check that the distribution is normal\n",
    "plt.figure(figsize=(10,2))\n",
    "plt.subplot(1,2,1)\n",
    "plt.stem(X,use_line_collection=True)\n",
    "plt.subplot(1,2,2)\n",
    "plt.hist(X,bins=100)\n",
    "plt.show()"
   ]
  },
  {
   "cell_type": "code",
   "execution_count": 80,
   "metadata": {},
   "outputs": [
    {
     "data": {
      "text/plain": [
       "array([0.45406279, 1.73243256, 1.41448754, 0.83142898, 0.87201647,\n",
       "       1.04540672, 1.12324555, 0.85769375, 1.95142519, 1.85418089])"
      ]
     },
     "execution_count": 80,
     "metadata": {},
     "output_type": "execute_result"
    }
   ],
   "source": [
    "from scipy.stats import uniform\n",
    "\n",
    "# random numbers from uniform distribution\n",
    "n = 10\n",
    "data_uniform = uniform.rvs(size=n, scale=2) # same as np.random.random\n",
    "data_uniform"
   ]
  },
  {
   "cell_type": "code",
   "execution_count": 82,
   "metadata": {},
   "outputs": [
    {
     "data": {
      "text/plain": [
       "array([1.6143072 , 0.6499771 , 1.01604753, 0.87216725, 1.8726018 ,\n",
       "       0.63146616, 1.69256911, 1.33603383, 0.37668817, 0.17488575])"
      ]
     },
     "execution_count": 82,
     "metadata": {},
     "output_type": "execute_result"
    }
   ],
   "source": [
    "np.random.random(10) * 2"
   ]
  },
  {
   "cell_type": "code",
   "execution_count": 89,
   "metadata": {},
   "outputs": [
    {
     "name": "stdout",
     "output_type": "stream",
     "text": [
      "[2 1 1 0 1 2 1 0 2 2 4 1 1 0 0 0 0 1 3 1 1 0 1 1 1 2 2 2 2 0 1 3 0 1 0 1 2\n",
      " 1 0 0 0 1 1 1 2 0 0 0 0 0 0 0 0 1 0 3 2 1 0 1 0 0 2 3 2 2 0 0 0 1 1 2 1 0\n",
      " 1 2 0 0 0 0 1 0 0 2 1 1 1 3 1 2 0 2 0 1 1 1 2 1 0 2] 10000\n"
     ]
    },
    {
     "data": {
      "text/plain": [
       "[Text(0, 0.5, 'Frequency'), Text(0.5, 0, 'Binomial Distribution')]"
      ]
     },
     "execution_count": 89,
     "metadata": {},
     "output_type": "execute_result"
    },
    {
     "data": {
      "image/png": "[encoded data removed]",
      "text/plain": [
       "<Figure size 432x288 with 1 Axes>"
      ]
     },
     "metadata": {
      "needs_background": "light"
     },
     "output_type": "display_data"
    }
   ],
   "source": [
    "from scipy.stats import binom\n",
    "data_binom = binom.rvs(n=20,p=0.05,size=10000)\n",
    "print(data_binom[:100],len(data_binom))\n",
    "ax = sns.distplot(data_binom,\n",
    "                  kde=False,\n",
    "                  color='skyblue',\n",
    "                  hist_kws={\"linewidth\": 15,'alpha':1})\n",
    "ax.set(xlabel='Binomial Distribution', ylabel='Frequency')"
   ]
  },
  {
   "cell_type": "code",
   "execution_count": 112,
   "metadata": {},
   "outputs": [
    {
     "data": {
      "text/plain": [
       "(array([753., 137.,  46.,  32.,  14.,   6.,   8.,   2.,   1.,   1.]),\n",
       " array([ 1. ,  2.1,  3.2,  4.3,  5.4,  6.5,  7.6,  8.7,  9.8, 10.9, 12. ]),\n",
       " <a list of 10 Patch objects>)"
      ]
     },
     "execution_count": 112,
     "metadata": {},
     "output_type": "execute_result"
    },
    {
     "data": {
      "image/png": "[encoded data removed]",
      "text/plain": [
       "<Figure size 432x288 with 1 Axes>"
      ]
     },
     "metadata": {
      "needs_background": "light"
     },
     "output_type": "display_data"
    }
   ],
   "source": [
    "from scipy.stats import geom\n",
    "\n",
    "data_geom = geom.rvs(p=0.5,size=1000)\n",
    "\n",
    "plt.hist(data_geom)"
   ]
  },
  {
   "cell_type": "code",
   "execution_count": 119,
   "metadata": {},
   "outputs": [
    {
     "data": {
      "text/plain": [
       "0.03125"
      ]
     },
     "execution_count": 119,
     "metadata": {},
     "output_type": "execute_result"
    }
   ],
   "source": [
    "1-geom.cdf(p=0.5, k=5)"
   ]
  },
  {
   "cell_type": "code",
   "execution_count": null,
   "metadata": {},
   "outputs": [],
   "source": []
  }
 ],
 "metadata": {
  "kernelspec": {
   "display_name": "Python 3",
   "language": "python",
   "name": "python3"
  },
  "language_info": {
   "codemirror_mode": {
    "name": "ipython",
    "version": 3
   },
   "file_extension": ".py",
   "mimetype": "text/x-python",
   "name": "python",
   "nbconvert_exporter": "python",
   "pygments_lexer": "ipython3",
   "version": "3.8.4"
  }
 },
 "nbformat": 4,
 "nbformat_minor": 4
}
