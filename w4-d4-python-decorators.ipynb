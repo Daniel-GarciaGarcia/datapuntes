{
 "cells": [
  {
   "cell_type": "code",
   "execution_count": 1,
   "metadata": {},
   "outputs": [],
   "source": [
    "import random\n",
    "\n",
    "def conMiguelBose():\n",
    "    frases = [\"el covid es el 5G\",\"amante bandido\",\"todos a colon\",\"morena mia, microchips en la sangre\"]\n",
    "    return random.choice(frases)"
   ]
  },
  {
   "cell_type": "code",
   "execution_count": 20,
   "metadata": {},
   "outputs": [],
   "source": [
    "def conInstructor(fn):\n",
    "    nombre = random.choice([\"Amanda\",\"Felipe\",\"Marc\"])\n",
    "    return nombre + \" debes saber que \" + fn()"
   ]
  },
  {
   "cell_type": "code",
   "execution_count": 21,
   "metadata": {},
   "outputs": [
    {
     "data": {
      "text/plain": [
       "'Felipe debes saber que amante bandido'"
      ]
     },
     "execution_count": 21,
     "metadata": {},
     "output_type": "execute_result"
    }
   ],
   "source": [
    "conInstructor(conMiguelBose)"
   ]
  },
  {
   "cell_type": "code",
   "execution_count": 34,
   "metadata": {},
   "outputs": [],
   "source": [
    "def withInstructor(fn):\n",
    "    def wrapper():\n",
    "        print(\"Hola\")\n",
    "        return conInstructor(fn)\n",
    "    return wrapper"
   ]
  },
  {
   "cell_type": "code",
   "execution_count": 35,
   "metadata": {},
   "outputs": [],
   "source": [
    "@withInstructor\n",
    "def conRosalia():\n",
    "    frases = [\"tra tra\",\"malamente\",\"la rosalia\",\"con altura\"]\n",
    "    return random.choice(frases)"
   ]
  },
  {
   "cell_type": "code",
   "execution_count": 36,
   "metadata": {},
   "outputs": [
    {
     "name": "stdout",
     "output_type": "stream",
     "text": [
      "Hola\n"
     ]
    },
    {
     "data": {
      "text/plain": [
       "'Amanda debes saber que la rosalia'"
      ]
     },
     "execution_count": 36,
     "metadata": {},
     "output_type": "execute_result"
    }
   ],
   "source": [
    "conRosalia()"
   ]
  },
  {
   "cell_type": "code",
   "execution_count": 38,
   "metadata": {},
   "outputs": [
    {
     "name": "stdout",
     "output_type": "stream",
     "text": [
      "Hola\n"
     ]
    },
    {
     "data": {
      "text/plain": [
       "'Marc debes saber que Hola'"
      ]
     },
     "execution_count": 38,
     "metadata": {},
     "output_type": "execute_result"
    }
   ],
   "source": [
    "withInstructor(lambda : \"Hola\")()"
   ]
  },
  {
   "cell_type": "code",
   "execution_count": 44,
   "metadata": {},
   "outputs": [],
   "source": [
    "def suma_valores(a,b):\n",
    "    print(\"entrada\",a,b)\n",
    "    x = a+b\n",
    "    print(\"salida\",x)\n",
    "    return x"
   ]
  },
  {
   "cell_type": "code",
   "execution_count": 45,
   "metadata": {},
   "outputs": [
    {
     "name": "stdout",
     "output_type": "stream",
     "text": [
      "entrada 5 10\n",
      "salida 15\n"
     ]
    },
    {
     "data": {
      "text/plain": [
       "15"
      ]
     },
     "execution_count": 45,
     "metadata": {},
     "output_type": "execute_result"
    }
   ],
   "source": [
    "suma_valores(5,10)"
   ]
  },
  {
   "cell_type": "code",
   "execution_count": 55,
   "metadata": {},
   "outputs": [],
   "source": [
    "def debug(fn):\n",
    "    def wrapper(x,y):\n",
    "        print(\"Entrada:\",x,y)\n",
    "        out = fn(x,y)\n",
    "        print(\"return =>\",out)\n",
    "        return out\n",
    "    return wrapper"
   ]
  },
  {
   "cell_type": "code",
   "execution_count": 56,
   "metadata": {},
   "outputs": [],
   "source": [
    "@debug\n",
    "def suma_valores(a,b):\n",
    "    return a+b"
   ]
  },
  {
   "cell_type": "code",
   "execution_count": 57,
   "metadata": {},
   "outputs": [
    {
     "name": "stdout",
     "output_type": "stream",
     "text": [
      "Entrada: 5 10\n",
      "return => 15\n"
     ]
    },
    {
     "data": {
      "text/plain": [
       "15"
      ]
     },
     "execution_count": 57,
     "metadata": {},
     "output_type": "execute_result"
    }
   ],
   "source": [
    "suma_valores(5,10)"
   ]
  },
  {
   "cell_type": "code",
   "execution_count": 61,
   "metadata": {},
   "outputs": [
    {
     "name": "stdout",
     "output_type": "stream",
     "text": [
      "Entrada: 5 10\n",
      "return => 0.5\n"
     ]
    },
    {
     "data": {
      "text/plain": [
       "0.5"
      ]
     },
     "execution_count": 61,
     "metadata": {},
     "output_type": "execute_result"
    }
   ],
   "source": [
    "@debug\n",
    "def divide(a,b):\n",
    "    return a/b\n",
    "\n",
    "divide(5,10)"
   ]
  },
  {
   "cell_type": "code",
   "execution_count": 73,
   "metadata": {},
   "outputs": [],
   "source": [
    "def debug(fn):\n",
    "    def wrapper(*args,**kwargs):\n",
    "        print(\"Positionals:\",args,)\n",
    "        print(\"Keywords:\",kwargs)\n",
    "        out = fn(*args,**kwargs)\n",
    "        print(\"return =>\",out)\n",
    "        return out\n",
    "    return wrapper"
   ]
  },
  {
   "cell_type": "code",
   "execution_count": 74,
   "metadata": {},
   "outputs": [
    {
     "name": "stdout",
     "output_type": "stream",
     "text": [
      "Positionals: ([1, 2], [3, 4], [5, 6], [7, 8])\n",
      "Keywords: {}\n",
      "return => [1, 2, 3, 4, 5, 6, 7, 8]\n"
     ]
    },
    {
     "data": {
      "text/plain": [
       "[1, 2, 3, 4, 5, 6, 7, 8]"
      ]
     },
     "execution_count": 74,
     "metadata": {},
     "output_type": "execute_result"
    }
   ],
   "source": [
    "@debug\n",
    "def concatenaArrays(a,b,c,d):\n",
    "    return a+b+c+d\n",
    "\n",
    "concatenaArrays([1,2],[3,4],[5,6],[7,8])"
   ]
  },
  {
   "cell_type": "code",
   "execution_count": 82,
   "metadata": {},
   "outputs": [
    {
     "name": "stdout",
     "output_type": "stream",
     "text": [
      "Positionals: ('Pepe',)\n",
      "Keywords: {'idioma': 'en'}\n",
      "return => Hello Pepe\n"
     ]
    },
    {
     "data": {
      "text/plain": [
       "'Hello Pepe'"
      ]
     },
     "execution_count": 82,
     "metadata": {},
     "output_type": "execute_result"
    }
   ],
   "source": [
    "@debug\n",
    "def saluda(nombre, idioma=\"es\"):\n",
    "    if idioma==\"es\":\n",
    "        return \"Hola \" + nombre\n",
    "    if idioma==\"en\":\n",
    "        return \"Hello \" + nombre\n",
    "    else:\n",
    "        return \"No hay saludo\"\n",
    "\n",
    "saluda(\"Pepe\",idioma=\"en\")"
   ]
  },
  {
   "cell_type": "code",
   "execution_count": 90,
   "metadata": {},
   "outputs": [],
   "source": [
    "def iterateOver(fn):\n",
    "    def wrapper(*args,**kwargs):\n",
    "        return list(map(lambda e: fn(e,**kwargs),args))\n",
    "    return wrapper"
   ]
  },
  {
   "cell_type": "code",
   "execution_count": 91,
   "metadata": {},
   "outputs": [],
   "source": [
    "@iterateOver\n",
    "def saluda(nombre, idioma=\"es\"):\n",
    "    if idioma==\"es\":\n",
    "        return \"Hola \" + nombre\n",
    "    if idioma==\"en\":\n",
    "        return \"Hello \" + nombre\n",
    "    else:\n",
    "        return \"No hay saludo\""
   ]
  },
  {
   "cell_type": "code",
   "execution_count": 94,
   "metadata": {},
   "outputs": [
    {
     "data": {
      "text/plain": [
       "['Hola pepe', 'Hola juan']"
      ]
     },
     "execution_count": 94,
     "metadata": {},
     "output_type": "execute_result"
    }
   ],
   "source": [
    "saluda(\"pepe\",\"juan\")"
   ]
  },
  {
   "cell_type": "code",
   "execution_count": 97,
   "metadata": {},
   "outputs": [],
   "source": [
    "@iterateOver\n",
    "@debug\n",
    "def saluda(nombre, idioma=\"es\"):\n",
    "    if idioma==\"es\":\n",
    "        return \"Hola \" + nombre\n",
    "    if idioma==\"en\":\n",
    "        return \"Hello \" + nombre\n",
    "    else:\n",
    "        return \"No hay saludo\""
   ]
  },
  {
   "cell_type": "code",
   "execution_count": 98,
   "metadata": {},
   "outputs": [
    {
     "name": "stdout",
     "output_type": "stream",
     "text": [
      "Positionals: ('pepe',)\n",
      "Keywords: {}\n",
      "return => Hola pepe\n",
      "Positionals: ('juan',)\n",
      "Keywords: {}\n",
      "return => Hola juan\n"
     ]
    },
    {
     "data": {
      "text/plain": [
       "['Hola pepe', 'Hola juan']"
      ]
     },
     "execution_count": 98,
     "metadata": {},
     "output_type": "execute_result"
    }
   ],
   "source": [
    "saluda(\"pepe\",\"juan\")"
   ]
  },
  {
   "cell_type": "code",
   "execution_count": 99,
   "metadata": {},
   "outputs": [],
   "source": [
    "@debug\n",
    "@iterateOver\n",
    "def saluda(nombre, idioma=\"es\"):\n",
    "    if idioma==\"es\":\n",
    "        return \"Hola \" + nombre\n",
    "    if idioma==\"en\":\n",
    "        return \"Hello \" + nombre\n",
    "    else:\n",
    "        return \"No hay saludo\""
   ]
  },
  {
   "cell_type": "code",
   "execution_count": 100,
   "metadata": {},
   "outputs": [
    {
     "name": "stdout",
     "output_type": "stream",
     "text": [
      "Positionals: ('pepe', 'juan')\n",
      "Keywords: {}\n",
      "return => ['Hola pepe', 'Hola juan']\n"
     ]
    },
    {
     "data": {
      "text/plain": [
       "['Hola pepe', 'Hola juan']"
      ]
     },
     "execution_count": 100,
     "metadata": {},
     "output_type": "execute_result"
    }
   ],
   "source": [
    "saluda(\"pepe\",\"juan\")"
   ]
  },
  {
   "cell_type": "code",
   "execution_count": 101,
   "metadata": {},
   "outputs": [],
   "source": [
    "def saluda(nombre, idioma=\"es\"):\n",
    "    if idioma==\"es\":\n",
    "        return \"Hola \" + nombre\n",
    "    if idioma==\"en\":\n",
    "        return \"Hello \" + nombre\n",
    "    else:\n",
    "        return \"No hay saludo\""
   ]
  },
  {
   "cell_type": "code",
   "execution_count": 105,
   "metadata": {},
   "outputs": [
    {
     "name": "stdout",
     "output_type": "stream",
     "text": [
      "Positionals: ('pepe',)\n",
      "Keywords: {}\n",
      "return => Hola pepe\n",
      "Positionals: ('luis',)\n",
      "Keywords: {}\n",
      "return => Hola luis\n"
     ]
    },
    {
     "data": {
      "text/plain": [
       "['Hola pepe', 'Hola luis']"
      ]
     },
     "execution_count": 105,
     "metadata": {},
     "output_type": "execute_result"
    }
   ],
   "source": [
    "fn = iterateOver(debug(saluda))\n",
    "fn(\"pepe\",\"luis\")"
   ]
  },
  {
   "cell_type": "code",
   "execution_count": 110,
   "metadata": {},
   "outputs": [
    {
     "data": {
      "text/plain": [
       "'Juan Mr Worldwide, Pepe 1,2,3, Felipe Mr Worldwide, amanda Dale'"
      ]
     },
     "execution_count": 110,
     "metadata": {},
     "output_type": "execute_result"
    }
   ],
   "source": [
    "def conGenteRandom(fn):\n",
    "    def wrapper(*listaNombres):\n",
    "        return ', '.join([fn(n) for n in listaNombres])\n",
    "    return wrapper\n",
    "\n",
    "@conGenteRandom\n",
    "def pitbull(nombre):\n",
    "    frase = random.choice([\"Mr Worldwide\",\"1,2,3\",\"Dale\"])\n",
    "    return f\"{nombre} {frase}\"\n",
    "\n",
    "x = [\"Juan\",\"Pepe\",\"Felipe\",\"amanda\"]\n",
    "pitbull(*x)"
   ]
  },
  {
   "cell_type": "code",
   "execution_count": 113,
   "metadata": {},
   "outputs": [
    {
     "data": {
      "text/plain": [
       "11"
      ]
     },
     "execution_count": 113,
     "metadata": {},
     "output_type": "execute_result"
    }
   ],
   "source": [
    "def noOp(fn):\n",
    "    return fn\n",
    "\n",
    "@noOp\n",
    "def suma(a,b):\n",
    "    return a+b\n",
    "\n",
    "\n",
    "suma(5,6)"
   ]
  },
  {
   "cell_type": "code",
   "execution_count": 114,
   "metadata": {},
   "outputs": [],
   "source": [
    "debugEnabled = True\n",
    "def debug(fn):\n",
    "    def wrapper(*args,**kwargs):\n",
    "        if debugEnabled:\n",
    "            print(f\"args={args} kwargs={kwargs}\")\n",
    "        ret = fn(*args,**kwargs)\n",
    "        if debugEnabled:\n",
    "            print(f\"return={ret}\")\n",
    "        return ret\n",
    "    return wrapper"
   ]
  },
  {
   "cell_type": "code",
   "execution_count": 116,
   "metadata": {},
   "outputs": [
    {
     "data": {
      "text/plain": [
       "28"
      ]
     },
     "execution_count": 116,
     "metadata": {},
     "output_type": "execute_result"
    }
   ],
   "source": [
    "@debug\n",
    "def suma(a,b):\n",
    "    return a+b\n",
    "\n",
    "debugEnabled = False\n",
    "suma(5,suma(8,suma(10,5)))"
   ]
  },
  {
   "cell_type": "code",
   "execution_count": 126,
   "metadata": {},
   "outputs": [],
   "source": [
    "def checkPositionals(*positionalTypes):\n",
    "    def decorate(fn):\n",
    "        def wrapper(*args,**kwargs):\n",
    "            typedCheck = [type(a)==b for a,b in zip(args,positionalTypes)]\n",
    "            if all(typedCheck):\n",
    "                return fn(*args,**kwargs)\n",
    "            else:\n",
    "                raise TypeError(f\"Check the call to function, invalid types. {positionalTypes}\")\n",
    "        return wrapper\n",
    "    return decorate\n",
    "\n",
    "@checkPositionals(str)\n",
    "def saluda(nombre):\n",
    "    return f\"Hola {nombre}\""
   ]
  },
  {
   "cell_type": "code",
   "execution_count": 127,
   "metadata": {},
   "outputs": [
    {
     "ename": "TypeError",
     "evalue": "Check the call to function, invalid types. (<class 'str'>,)",
     "output_type": "error",
     "traceback": [
      "\u001b[0;31m---------------------------------------------------------------------------\u001b[0m",
      "\u001b[0;31mTypeError\u001b[0m                                 Traceback (most recent call last)",
      "\u001b[0;32m<ipython-input-127-32bd918fba46>\u001b[0m in \u001b[0;36m<module>\u001b[0;34m\u001b[0m\n\u001b[0;32m----> 1\u001b[0;31m \u001b[0msaluda\u001b[0m\u001b[0;34m(\u001b[0m\u001b[0;32mTrue\u001b[0m\u001b[0;34m)\u001b[0m\u001b[0;34m\u001b[0m\u001b[0;34m\u001b[0m\u001b[0m\n\u001b[0m",
      "\u001b[0;32m<ipython-input-126-2a939a9b07bc>\u001b[0m in \u001b[0;36mwrapper\u001b[0;34m(*args, **kwargs)\u001b[0m\n\u001b[1;32m      6\u001b[0m                 \u001b[0;32mreturn\u001b[0m \u001b[0mfn\u001b[0m\u001b[0;34m(\u001b[0m\u001b[0;34m*\u001b[0m\u001b[0margs\u001b[0m\u001b[0;34m,\u001b[0m\u001b[0;34m**\u001b[0m\u001b[0mkwargs\u001b[0m\u001b[0;34m)\u001b[0m\u001b[0;34m\u001b[0m\u001b[0;34m\u001b[0m\u001b[0m\n\u001b[1;32m      7\u001b[0m             \u001b[0;32melse\u001b[0m\u001b[0;34m:\u001b[0m\u001b[0;34m\u001b[0m\u001b[0;34m\u001b[0m\u001b[0m\n\u001b[0;32m----> 8\u001b[0;31m                 \u001b[0;32mraise\u001b[0m \u001b[0mTypeError\u001b[0m\u001b[0;34m(\u001b[0m\u001b[0;34mf\"Check the call to function, invalid types. {positionalTypes}\"\u001b[0m\u001b[0;34m)\u001b[0m\u001b[0;34m\u001b[0m\u001b[0;34m\u001b[0m\u001b[0m\n\u001b[0m\u001b[1;32m      9\u001b[0m         \u001b[0;32mreturn\u001b[0m \u001b[0mwrapper\u001b[0m\u001b[0;34m\u001b[0m\u001b[0;34m\u001b[0m\u001b[0m\n\u001b[1;32m     10\u001b[0m     \u001b[0;32mreturn\u001b[0m \u001b[0mdecorate\u001b[0m\u001b[0;34m\u001b[0m\u001b[0;34m\u001b[0m\u001b[0m\n",
      "\u001b[0;31mTypeError\u001b[0m: Check the call to function, invalid types. (<class 'str'>,)"
     ]
    }
   ],
   "source": [
    "saluda(True)"
   ]
  },
  {
   "cell_type": "code",
   "execution_count": 155,
   "metadata": {},
   "outputs": [],
   "source": [
    "import numpy as np\n",
    "import numpy\n",
    "\n",
    "@checkPositionals(str,numpy.ndarray)\n",
    "def sumArray(texto,a):\n",
    "    return f\"la suma es {a.sum(axis=1)}\""
   ]
  },
  {
   "cell_type": "code",
   "execution_count": 156,
   "metadata": {},
   "outputs": [
    {
     "data": {
      "text/plain": [
       "'la suma es [4.50785095 5.21035517 3.96959538 5.26047846 4.49161962]'"
      ]
     },
     "execution_count": 156,
     "metadata": {},
     "output_type": "execute_result"
    }
   ],
   "source": [
    "m=np.random.random((5,10))\n",
    "#print(sumArray(m,\"Hola\"))\n",
    "sumArray(\"hola\",m)"
   ]
  },
  {
   "cell_type": "code",
   "execution_count": 158,
   "metadata": {},
   "outputs": [
    {
     "ename": "TypeError",
     "evalue": "can only concatenate str (not \"int\") to str",
     "output_type": "error",
     "traceback": [
      "\u001b[0;31m---------------------------------------------------------------------------\u001b[0m",
      "\u001b[0;31mTypeError\u001b[0m                                 Traceback (most recent call last)",
      "\u001b[0;32m<ipython-input-158-8a642f869e94>\u001b[0m in \u001b[0;36m<module>\u001b[0;34m\u001b[0m\n\u001b[1;32m      3\u001b[0m \u001b[0;34m\u001b[0m\u001b[0m\n\u001b[1;32m      4\u001b[0m \u001b[0msuma\u001b[0m\u001b[0;34m(\u001b[0m\u001b[0;36m5\u001b[0m\u001b[0;34m,\u001b[0m\u001b[0;36m10\u001b[0m\u001b[0;34m)\u001b[0m\u001b[0;34m\u001b[0m\u001b[0;34m\u001b[0m\u001b[0m\n\u001b[0;32m----> 5\u001b[0;31m \u001b[0msuma\u001b[0m\u001b[0;34m(\u001b[0m\u001b[0;34m\"a\"\u001b[0m\u001b[0;34m,\u001b[0m\u001b[0;36m10\u001b[0m\u001b[0;34m)\u001b[0m\u001b[0;34m\u001b[0m\u001b[0;34m\u001b[0m\u001b[0m\n\u001b[0m",
      "\u001b[0;32m<ipython-input-158-8a642f869e94>\u001b[0m in \u001b[0;36msuma\u001b[0;34m(a, b)\u001b[0m\n\u001b[1;32m      1\u001b[0m \u001b[0;32mdef\u001b[0m \u001b[0msuma\u001b[0m\u001b[0;34m(\u001b[0m\u001b[0ma\u001b[0m\u001b[0;34m:\u001b[0m\u001b[0mint\u001b[0m\u001b[0;34m,\u001b[0m\u001b[0mb\u001b[0m\u001b[0;34m:\u001b[0m\u001b[0mint\u001b[0m\u001b[0;34m)\u001b[0m\u001b[0;34m:\u001b[0m\u001b[0;34m\u001b[0m\u001b[0;34m\u001b[0m\u001b[0m\n\u001b[0;32m----> 2\u001b[0;31m     \u001b[0;32mreturn\u001b[0m \u001b[0ma\u001b[0m\u001b[0;34m+\u001b[0m\u001b[0mb\u001b[0m\u001b[0;34m\u001b[0m\u001b[0;34m\u001b[0m\u001b[0m\n\u001b[0m\u001b[1;32m      3\u001b[0m \u001b[0;34m\u001b[0m\u001b[0m\n\u001b[1;32m      4\u001b[0m \u001b[0msuma\u001b[0m\u001b[0;34m(\u001b[0m\u001b[0;36m5\u001b[0m\u001b[0;34m,\u001b[0m\u001b[0;36m10\u001b[0m\u001b[0;34m)\u001b[0m\u001b[0;34m\u001b[0m\u001b[0;34m\u001b[0m\u001b[0m\n\u001b[1;32m      5\u001b[0m \u001b[0msuma\u001b[0m\u001b[0;34m(\u001b[0m\u001b[0;34m\"a\"\u001b[0m\u001b[0;34m,\u001b[0m\u001b[0;36m10\u001b[0m\u001b[0;34m)\u001b[0m\u001b[0;34m\u001b[0m\u001b[0;34m\u001b[0m\u001b[0m\n",
      "\u001b[0;31mTypeError\u001b[0m: can only concatenate str (not \"int\") to str"
     ]
    }
   ],
   "source": [
    "def suma(a:int,b:int):\n",
    "    return a+b\n",
    "\n",
    "suma(5,10)\n",
    "suma(\"a\",10)"
   ]
  },
  {
   "cell_type": "code",
   "execution_count": null,
   "metadata": {},
   "outputs": [],
   "source": [
    "a = 5\n",
    "a = \"hola\"    "
   ]
  }
 ],
 "metadata": {
  "kernelspec": {
   "display_name": "Python 3",
   "language": "python",
   "name": "python3"
  },
  "language_info": {
   "codemirror_mode": {
    "name": "ipython",
    "version": 3
   },
   "file_extension": ".py",
   "mimetype": "text/x-python",
   "name": "python",
   "nbconvert_exporter": "python",
   "pygments_lexer": "ipython3",
   "version": "3.8.4"
  }
 },
 "nbformat": 4,
 "nbformat_minor": 4
}
