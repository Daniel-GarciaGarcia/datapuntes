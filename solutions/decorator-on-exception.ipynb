{
 "cells": [
  {
   "cell_type": "code",
   "execution_count": 1,
   "metadata": {},
   "outputs": [],
   "source": [
    "def meme(comment):\n",
    "    try:\n",
    "        try:\n",
    "            z = re.findall(r'https:.jpg|.png|.jpeg',comment[0]['body'])\n",
    "            z = str(z).split('(')\n",
    "            z = z[1].split(\"'\")\n",
    "            return z[0]\n",
    "        except:\n",
    "            z = re.findall(r'https:.jpg|.png|.jpeg',comment[0]['body'])\n",
    "            z = str(z).split('(')\n",
    "            return z[0]\n",
    "    except:\n",
    "        return None\n"
   ]
  },
  {
   "cell_type": "code",
   "execution_count": null,
   "metadata": {},
   "outputs": [],
   "source": [
    "def exceptionAsNone(fn):\n",
    "    def wrapper(*args,**kwargs):\n",
    "        fn(*args,)"
   ]
  }
 ],
 "metadata": {
  "kernelspec": {
   "display_name": "Python 3",
   "language": "python",
   "name": "python3"
  },
  "language_info": {
   "codemirror_mode": {
    "name": "ipython",
    "version": 3
   },
   "file_extension": ".py",
   "mimetype": "text/x-python",
   "name": "python",
   "nbconvert_exporter": "python",
   "pygments_lexer": "ipython3",
   "version": "3.8.4"
  }
 },
 "nbformat": 4,
 "nbformat_minor": 4
}
