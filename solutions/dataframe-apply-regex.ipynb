{
 "cells": [
  {
   "cell_type": "code",
   "execution_count": 36,
   "metadata": {},
   "outputs": [
    {
     "data": {
      "text/html": [
       "<div>\n",
       "<style scoped>\n",
       "    .dataframe tbody tr th:only-of-type {\n",
       "        vertical-align: middle;\n",
       "    }\n",
       "\n",
       "    .dataframe tbody tr th {\n",
       "        vertical-align: top;\n",
       "    }\n",
       "\n",
       "    .dataframe thead th {\n",
       "        text-align: right;\n",
       "    }\n",
       "</style>\n",
       "<table border=\"1\" class=\"dataframe\">\n",
       "  <thead>\n",
       "    <tr style=\"text-align: right;\">\n",
       "      <th></th>\n",
       "      <th>Brand</th>\n",
       "      <th>Model</th>\n",
       "    </tr>\n",
       "  </thead>\n",
       "  <tbody>\n",
       "    <tr>\n",
       "      <th>0</th>\n",
       "      <td>Motorola</td>\n",
       "      <td>Motorola I265 phone</td>\n",
       "    </tr>\n",
       "    <tr>\n",
       "      <th>1</th>\n",
       "      <td>Motorola</td>\n",
       "      <td>MOTOROLA C168i At&amp;t</td>\n",
       "    </tr>\n",
       "    <tr>\n",
       "      <th>2</th>\n",
       "      <td>Motorola</td>\n",
       "      <td>Motorola V365 no con</td>\n",
       "    </tr>\n",
       "    <tr>\n",
       "      <th>3</th>\n",
       "      <td>Nokia</td>\n",
       "      <td>Nokia V365 no con</td>\n",
       "    </tr>\n",
       "  </tbody>\n",
       "</table>\n",
       "</div>"
      ],
      "text/plain": [
       "      Brand                 Model\n",
       "0  Motorola   Motorola I265 phone\n",
       "1  Motorola   MOTOROLA C168i At&t\n",
       "2  Motorola  Motorola V365 no con\n",
       "3     Nokia     Nokia V365 no con"
      ]
     },
     "execution_count": 36,
     "metadata": {},
     "output_type": "execute_result"
    }
   ],
   "source": [
    "import pandas as pd\n",
    "\n",
    "df = pd.DataFrame([\n",
    "    {\"Brand\":\"Motorola\",\"Model\":\"Motorola I265 phone\"},\n",
    "    {\"Brand\":\"Motorola\",\"Model\":\"MOTOROLA C168i At&t\"},\n",
    "    {\"Brand\":\"Motorola\",\"Model\":\"Motorola V365 no con\"},\n",
    "    {\"Brand\":\"Nokia\",\"Model\":\"Nokia V365 no con\"},\n",
    "])\n",
    "\n",
    "df"
   ]
  },
  {
   "cell_type": "code",
   "execution_count": 37,
   "metadata": {},
   "outputs": [
    {
     "name": "stdout",
     "output_type": "stream",
     "text": [
      "I265 phone\n",
      "C168i At&t\n",
      "V365 no con\n"
     ]
    },
    {
     "data": {
      "text/html": [
       "<div>\n",
       "<style scoped>\n",
       "    .dataframe tbody tr th:only-of-type {\n",
       "        vertical-align: middle;\n",
       "    }\n",
       "\n",
       "    .dataframe tbody tr th {\n",
       "        vertical-align: top;\n",
       "    }\n",
       "\n",
       "    .dataframe thead th {\n",
       "        text-align: right;\n",
       "    }\n",
       "</style>\n",
       "<table border=\"1\" class=\"dataframe\">\n",
       "  <thead>\n",
       "    <tr style=\"text-align: right;\">\n",
       "      <th></th>\n",
       "      <th>Brand</th>\n",
       "      <th>Model</th>\n",
       "      <th>modelo_clean</th>\n",
       "    </tr>\n",
       "  </thead>\n",
       "  <tbody>\n",
       "    <tr>\n",
       "      <th>0</th>\n",
       "      <td>Motorola</td>\n",
       "      <td>Motorola I265 phone</td>\n",
       "      <td>I265 phone</td>\n",
       "    </tr>\n",
       "    <tr>\n",
       "      <th>1</th>\n",
       "      <td>Motorola</td>\n",
       "      <td>MOTOROLA C168i At&amp;t</td>\n",
       "      <td>C168i At&amp;t</td>\n",
       "    </tr>\n",
       "    <tr>\n",
       "      <th>2</th>\n",
       "      <td>Motorola</td>\n",
       "      <td>Motorola V365 no con</td>\n",
       "      <td>V365 no con</td>\n",
       "    </tr>\n",
       "    <tr>\n",
       "      <th>3</th>\n",
       "      <td>Nokia</td>\n",
       "      <td>Nokia V365 no con</td>\n",
       "      <td>No-motorola</td>\n",
       "    </tr>\n",
       "  </tbody>\n",
       "</table>\n",
       "</div>"
      ],
      "text/plain": [
       "      Brand                 Model modelo_clean\n",
       "0  Motorola   Motorola I265 phone   I265 phone\n",
       "1  Motorola   MOTOROLA C168i At&t   C168i At&t\n",
       "2  Motorola  Motorola V365 no con  V365 no con\n",
       "3     Nokia     Nokia V365 no con  No-motorola"
      ]
     },
     "execution_count": 37,
     "metadata": {},
     "output_type": "execute_result"
    }
   ],
   "source": [
    "# https://docs.python.org/3/howto/regex.html\n",
    "import re\n",
    "\n",
    "def ejemplo(row):\n",
    "    if row.Brand == \"Motorola\":\n",
    "        q = re.search(\"(motorola) (?P<model>.*)\", row.Model, re.IGNORECASE)\n",
    "        #print(q)\n",
    "        print(q.group(\"model\")) #is the same as print(q[2])\n",
    "        return q.group(\"model\")\n",
    "    else:\n",
    "        return \"No-motorola\"\n",
    "    \n",
    "df[\"modelo_clean\"] = df.apply(ejemplo, axis=1)\n",
    "df"
   ]
  },
  {
   "cell_type": "code",
   "execution_count": 38,
   "metadata": {},
   "outputs": [
    {
     "name": "stdout",
     "output_type": "stream",
     "text": [
      "(Motorola) (?P<model>.*)\n",
      "I265 phone\n",
      "(Motorola) (?P<model>.*)\n",
      "C168i At&t\n",
      "(Motorola) (?P<model>.*)\n",
      "V365 no con\n",
      "(Nokia) (?P<model>.*)\n",
      "V365 no con\n"
     ]
    },
    {
     "data": {
      "text/html": [
       "<div>\n",
       "<style scoped>\n",
       "    .dataframe tbody tr th:only-of-type {\n",
       "        vertical-align: middle;\n",
       "    }\n",
       "\n",
       "    .dataframe tbody tr th {\n",
       "        vertical-align: top;\n",
       "    }\n",
       "\n",
       "    .dataframe thead th {\n",
       "        text-align: right;\n",
       "    }\n",
       "</style>\n",
       "<table border=\"1\" class=\"dataframe\">\n",
       "  <thead>\n",
       "    <tr style=\"text-align: right;\">\n",
       "      <th></th>\n",
       "      <th>Brand</th>\n",
       "      <th>Model</th>\n",
       "      <th>modelo_clean</th>\n",
       "    </tr>\n",
       "  </thead>\n",
       "  <tbody>\n",
       "    <tr>\n",
       "      <th>0</th>\n",
       "      <td>Motorola</td>\n",
       "      <td>Motorola I265 phone</td>\n",
       "      <td>I265 phone</td>\n",
       "    </tr>\n",
       "    <tr>\n",
       "      <th>1</th>\n",
       "      <td>Motorola</td>\n",
       "      <td>MOTOROLA C168i At&amp;t</td>\n",
       "      <td>C168i At&amp;t</td>\n",
       "    </tr>\n",
       "    <tr>\n",
       "      <th>2</th>\n",
       "      <td>Motorola</td>\n",
       "      <td>Motorola V365 no con</td>\n",
       "      <td>V365 no con</td>\n",
       "    </tr>\n",
       "    <tr>\n",
       "      <th>3</th>\n",
       "      <td>Nokia</td>\n",
       "      <td>Nokia V365 no con</td>\n",
       "      <td>V365 no con</td>\n",
       "    </tr>\n",
       "  </tbody>\n",
       "</table>\n",
       "</div>"
      ],
      "text/plain": [
       "      Brand                 Model modelo_clean\n",
       "0  Motorola   Motorola I265 phone   I265 phone\n",
       "1  Motorola   MOTOROLA C168i At&t   C168i At&t\n",
       "2  Motorola  Motorola V365 no con  V365 no con\n",
       "3     Nokia     Nokia V365 no con  V365 no con"
      ]
     },
     "execution_count": 38,
     "metadata": {},
     "output_type": "execute_result"
    }
   ],
   "source": [
    "\n",
    "def ejemplo(row):\n",
    "    reg = f\"({row.Brand}) (?P<model>.*)\"\n",
    "    print(reg)\n",
    "    q = re.search(reg, row.Model, re.IGNORECASE)\n",
    "    if q:\n",
    "        print(q.group(\"model\")) #is the same as print(q[2])\n",
    "        return q.group(\"model\")\n",
    "    else:\n",
    "        return \"NO-MODEL\"\n",
    "  \n",
    "    \n",
    "df[\"modelo_clean\"] = df.apply(ejemplo, axis=1)\n",
    "df"
   ]
  },
  {
   "cell_type": "code",
   "execution_count": null,
   "metadata": {},
   "outputs": [],
   "source": []
  },
  {
   "cell_type": "code",
   "execution_count": null,
   "metadata": {},
   "outputs": [],
   "source": []
  }
 ],
 "metadata": {
  "kernelspec": {
   "display_name": "Python 3",
   "language": "python",
   "name": "python3"
  },
  "language_info": {
   "codemirror_mode": {
    "name": "ipython",
    "version": 3
   },
   "file_extension": ".py",
   "mimetype": "text/x-python",
   "name": "python",
   "nbconvert_exporter": "python",
   "pygments_lexer": "ipython3",
   "version": "3.8.4"
  }
 },
 "nbformat": 4,
 "nbformat_minor": 4
}
