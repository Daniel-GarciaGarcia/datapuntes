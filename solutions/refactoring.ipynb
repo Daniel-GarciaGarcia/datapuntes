{
 "cells": [
  {
   "cell_type": "code",
   "execution_count": 1,
   "metadata": {},
   "outputs": [],
   "source": [
    "def clean(word):\n",
    "    action='Action'\n",
    "    casual='Casual'\n",
    "    adventure='Adventure'\n",
    "    gore='Gore'\n",
    "    rpg='RPG'\n",
    "    strategy='Strategy' \n",
    "    racing='Racing'\n",
    "    simulation='Simulation'\n",
    "    sports='Sports'\n",
    "    if re.search(action, word) is not None:\n",
    "        word=action\n",
    "        return word\n",
    "    elif re.search(casual, word) is not None:\n",
    "        word=casual\n",
    "        return word\n",
    "    elif re.search(adventure, word) is not None:\n",
    "        word=adventure\n",
    "        return word\n",
    "    elif re.search(gore, word) is not None:\n",
    "        word=gore\n",
    "        return word\n",
    "    elif re.search(rpg, word) is not None:\n",
    "        word=rpg\n",
    "        return word\n",
    "    elif re.search(strategy, word) is not None:\n",
    "        word=strategy\n",
    "        return word\n",
    "    elif re.search(racing, word) is not None:\n",
    "        word=racing\n",
    "        return word\n",
    "    elif re.search(simulation, word) is not None:\n",
    "        word=simulation\n",
    "        return word\n",
    "    elif re.search(sports, word) is not None:\n",
    "        word=sports\n",
    "        return word"
   ]
  },
  {
   "cell_type": "code",
   "execution_count": 22,
   "metadata": {},
   "outputs": [
    {
     "name": "stdout",
     "output_type": "stream",
     "text": [
      "['Action']\n",
      "['Casual', 'Adventure']\n"
     ]
    }
   ],
   "source": [
    "# by @boyander\n",
    "\n",
    "def contains(sentence, wordlist):\n",
    "    return [word for word in wordlist if re.search(word,sentence,re.IGNORECASE)]\n",
    "\n",
    "#contains = lambda sentence,wordlist: [word for word in wordlist if re.search(word,sentence,re.IGNORECASE)]\n",
    "\n",
    "wl = ['Action', 'Casual','Adventure']\n",
    "print(contains(\"I like Action sports\",wl))\n",
    "print(contains(\"Casual sports are my favorite adventure\",wl))"
   ]
  },
  {
   "cell_type": "code",
   "execution_count": 6,
   "metadata": {},
   "outputs": [
    {
     "name": "stdout",
     "output_type": "stream",
     "text": [
      "(Action|Casual|Adventure)\n"
     ]
    }
   ],
   "source": [
    "# by @miguel-gimenez\n",
    "import re\n",
    "\n",
    "def clean(word):\n",
    "    m = ['Action', 'Casual','Adventure']\n",
    "    a = r\"(\"+'|'.join(m)+r\")\"\n",
    "    print(a)\n",
    "    matched = re.search(a,word)\n",
    "    if matched:\n",
    "        return matched\n",
    "clean(\"hola\")"
   ]
  },
  {
   "cell_type": "code",
   "execution_count": null,
   "metadata": {},
   "outputs": [],
   "source": []
  }
 ],
 "metadata": {
  "kernelspec": {
   "display_name": "Python 3",
   "language": "python",
   "name": "python3"
  },
  "language_info": {
   "codemirror_mode": {
    "name": "ipython",
    "version": 3
   },
   "file_extension": ".py",
   "mimetype": "text/x-python",
   "name": "python",
   "nbconvert_exporter": "python",
   "pygments_lexer": "ipython3",
   "version": "3.8.4"
  }
 },
 "nbformat": 4,
 "nbformat_minor": 4
}
