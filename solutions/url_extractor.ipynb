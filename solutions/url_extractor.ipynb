{
 "cells": [
  {
   "cell_type": "code",
   "execution_count": 1,
   "metadata": {},
   "outputs": [],
   "source": [
    "import re"
   ]
  },
  {
   "cell_type": "code",
   "execution_count": 2,
   "metadata": {},
   "outputs": [],
   "source": [
    "def meme(comment):\n",
    "    try:\n",
    "        try:\n",
    "            z = re.findall(r'https:.jpg|.png|.jpeg',comment[0]['body'])\n",
    "            z = str(z).split('(')\n",
    "            z = z[1].split(\"'\")\n",
    "            return z[0]\n",
    "        except:\n",
    "            z = re.findall(r'https:.jpg|.png|.jpeg',comment[0]['body'])\n",
    "            z = str(z).split('(')\n",
    "            return z[0]\n",
    "    except:\n",
    "        return None"
   ]
  },
  {
   "cell_type": "markdown",
   "metadata": {},
   "source": [
    "# try...except dentro de try...except : NO!!!"
   ]
  },
  {
   "cell_type": "code",
   "execution_count": 3,
   "metadata": {},
   "outputs": [],
   "source": [
    "comment = [{\"body\":\"https://okdiario.com/img/2018/04/09/receta-de-ensaimada-de-crema-2.jpeg\"}]"
   ]
  },
  {
   "cell_type": "code",
   "execution_count": 4,
   "metadata": {},
   "outputs": [
    {
     "data": {
      "text/plain": [
       "['.jpeg']"
      ]
     },
     "execution_count": 4,
     "metadata": {},
     "output_type": "execute_result"
    }
   ],
   "source": [
    "re.findall(r'https:.jpg|.png|.jpeg',comment[0]['body'])"
   ]
  },
  {
   "cell_type": "code",
   "execution_count": 5,
   "metadata": {},
   "outputs": [
    {
     "data": {
      "text/plain": [
       "['https://okdiario.com/img/2018/04/09/receta-de-ensaimada-de-crema-2.jpeg']"
      ]
     },
     "execution_count": 5,
     "metadata": {},
     "output_type": "execute_result"
    }
   ],
   "source": [
    "re.findall(r'https:[^\\(\\)<>]*(?:\\.jpg|\\.png|\\.jpeg)',comment[0]['body'])"
   ]
  },
  {
   "cell_type": "markdown",
   "metadata": {},
   "source": [
    "### Entendiendo la expresión regular"
   ]
  },
  {
   "cell_type": "code",
   "execution_count": 6,
   "metadata": {},
   "outputs": [],
   "source": [
    "\"https:[^\\(\\)<>]*(?:\\.jpg|\\.png|\\.jpeg)\"\n",
    "# Consideraciones generales\n",
    "    # Usamos el `\\` para escapar caracteres especiales, i.e.: caracteres que tienen un significado en RegEx\n",
    "# Dividimos la expresion en trés partes:\n",
    "\n",
    "\"https:\"\n",
    "# Es un literal, eso es, re buscará exatamente por esos caracteres en ese orden tal cual, sin secretos.\n",
    "\n",
    "\"[^\\(\\)<>]*\"\n",
    "# Los corchetes indican un conjunto de posibilidades para eligir, pero al usar el ^ no estamos indicando \n",
    "# lo que queremos sino lo que NO queremos. O sea, ese trozo del regex, con el * al final significa:\n",
    "# 0 o más veces cualquier caracter que no sea `(`,`)`, `<` o `>`.\n",
    "\n",
    "\"(?:jpg|\\.png|\\.jpeg)\"\n",
    "# Los parentesis indican un grupo de captura y lo usamos para que podamos hacer el `or`, o sea `|`, solo entre\n",
    "# las 3 posibles extensiones. Si no lo usaramos seria `https:[^\\(\\)<>]*\\.jpg` OR `\\.png` OR `\\.jpeg`, que no\n",
    "# es lo que queremos. Pero al tener un grupo de captura, las funciones de la libreria `re` nos buscan ademas de\n",
    "# toda la expresión, el grupo separadamente. Por eso empezamos el grupo con `?:`, que significa `NO CAPTURE`.\n",
    "# Eso es, con `?:` decimos a las funciones que consideren ese grupo, pero no lo capture individualmente.\n",
    "\n",
    "\"Ya está! :)\";"
   ]
  },
  {
   "cell_type": "code",
   "execution_count": 7,
   "metadata": {},
   "outputs": [],
   "source": [
    "def url_extractor(comment,regex=r'https:[^\\(\\)<>]*(?:\\.jpg|\\.png|\\.jpeg)'):\n",
    "    urls = re.findall(regex,comment)\n",
    "    return urls\n",
    "# Pues, a lo mejor no necesitamos una función para eso, al final es solo 1 linea.\n",
    "# Podríamos usarla si es en beneficio de la abstracción, para que saliera `url_extractor()` en lugar de \n",
    "# `re.findall`. Pero si la función fuera estar definida en el mismo fichero como es ese caso, directamente\n",
    "# usaria el `re.findall`."
   ]
  },
  {
   "cell_type": "code",
   "execution_count": 8,
   "metadata": {},
   "outputs": [],
   "source": [
    "data = [{\"body\": \"Lab rehecho! Os paso la pull ![image](https://user-images.githubusercontent.com/68472164/93796393-12fc0e00-fc3b-11ea-8abc-ce360f97083f.png)\"\n",
    "},\n",
    "{\"body\": \"Oye Callejón Diegón ¿qué alturas son estas de hacerme esta pull request? pues las mismas alturas que de venir a corregirla, Ras... ¡pues tienes toda la razón!En primer lugar, enhorabuena por tu esfuerzo de venir a rehacer labs cuando consideras que tienes que rehacer cosas... de verdad, con esa actitud llegarás donde quieras.Y en segundo lugar... ¡buen trabajo!este momento es súper top```    return  max(max([[x, y, z]  for x in range(5, X) for y in range(4, X) for z in range(3, X) if (x*x==y*y+z*z)]))```¡¡Seguimos apretando duro Diegóóóóóóóón!! 💪 🚀 ![2411c71e2791098cd84453390ae84c4a](https://user-images.githubusercontent.com/57899051/94084735-8bfb9100-fe06-11ea-8adf-68df497feaba.jpg)<!-- grade:9 -->  \"\n",
    "},\n",
    "{\"body\": \"Tableau :hankey: \"\n",
    "},\n",
    "{\"body\": \"![image](https://user-images.githubusercontent.com/68472164/93529702-a8965580-f93c-11ea-81f7-38042ccc85e3.png)\"\n",
    "},\n",
    "{\"body\": \"Perfecto, Raul! Tanto en los ejercícios de NFL como en el bonus. El unico apunte que te doy es que nombres las hojas, para que no sean “Hoja1, Hoja2, etc.” o “Parte1, Parte2, etc.”.Facilitaria un poco la navegación, pelo las graficas estan perfectas.![image](https://user-images.githubusercontent.com/52798316/93789037-a597af80-fc31-11ea-9723-8d924548624d.png)Muy bien.![image](https://user-images.githubusercontent.com/52798316/93784146-e9d48100-fc2c-11ea-968e-d051c6496fe6.png)<!--grade:10-->\"\n",
    "},\n",
    "{\"body\": \"Jajajaja, me ha encantado el meme. Es un poco así en unas ofertas de trabajo.La verdad que si, tableau es una herrramienta muy guay, con muchas posibilidades y que permite hacer unas visualizaciones muy chulas.A mi, personalmente, no me resulta nada intuitivo, pero en las manos correctas... JajajaHas hecho muy buen trabajo! El unico apunte que te doy es que nombres las hojas, para que no sean “Hoja1, Hoja2, etc.”.Facilitaria un poco la navegación, pelo las graficas estan perfectas.Muy bien.! [image](https://okdiario.com/img/2018/04/09/receta-de-ensaimada-de-crema-2.jpeg)\\\n",
    "[image](https://user-images.githubusercontent.com/52798316/93784146-e9d48100-fc2c-11ea-968e-d051c6496fe6.png)<!--grade:10-->\"\n",
    "}]"
   ]
  },
  {
   "cell_type": "code",
   "execution_count": 9,
   "metadata": {},
   "outputs": [],
   "source": [
    "urls = []\n",
    "for comment in  data:\n",
    "    urls += url_extractor(comment[\"body\"])"
   ]
  },
  {
   "cell_type": "code",
   "execution_count": 10,
   "metadata": {},
   "outputs": [
    {
     "data": {
      "text/plain": [
       "['https://user-images.githubusercontent.com/68472164/93796393-12fc0e00-fc3b-11ea-8abc-ce360f97083f.png',\n",
       " 'https://user-images.githubusercontent.com/57899051/94084735-8bfb9100-fe06-11ea-8adf-68df497feaba.jpg',\n",
       " 'https://user-images.githubusercontent.com/68472164/93529702-a8965580-f93c-11ea-81f7-38042ccc85e3.png',\n",
       " 'https://user-images.githubusercontent.com/52798316/93789037-a597af80-fc31-11ea-9723-8d924548624d.png',\n",
       " 'https://user-images.githubusercontent.com/52798316/93784146-e9d48100-fc2c-11ea-968e-d051c6496fe6.png',\n",
       " 'https://okdiario.com/img/2018/04/09/receta-de-ensaimada-de-crema-2.jpeg',\n",
       " 'https://user-images.githubusercontent.com/52798316/93784146-e9d48100-fc2c-11ea-968e-d051c6496fe6.png']"
      ]
     },
     "execution_count": 10,
     "metadata": {},
     "output_type": "execute_result"
    }
   ],
   "source": [
    "urls"
   ]
  },
  {
   "cell_type": "code",
   "execution_count": 11,
   "metadata": {},
   "outputs": [],
   "source": [
    "from pymongo import MongoClient\n",
    "client = MongoClient() \n",
    "db = client.get_database(\"github\")\n",
    "data = db.comments.find({})"
   ]
  },
  {
   "cell_type": "code",
   "execution_count": 12,
   "metadata": {},
   "outputs": [],
   "source": [
    "memes = []\n",
    "for comment in data:\n",
    "    memes += url_extractor(comment[\"comment\"])"
   ]
  },
  {
   "cell_type": "code",
   "execution_count": 13,
   "metadata": {},
   "outputs": [
    {
     "data": {
      "text/plain": [
       "['https://user-images.githubusercontent.com/68472164/93796393-12fc0e00-fc3b-11ea-8abc-ce360f97083f.png',\n",
       " 'https://user-images.githubusercontent.com/57899051/94084735-8bfb9100-fe06-11ea-8adf-68df497feaba.jpg',\n",
       " 'https://user-images.githubusercontent.com/52798316/93791370-6c147380-fc34-11ea-9357-4cc4fed170c3.png',\n",
       " 'https://user-images.githubusercontent.com/52798316/93784146-e9d48100-fc2c-11ea-968e-d051c6496fe6.png',\n",
       " 'https://user-images.githubusercontent.com/52798316/93790539-741fe380-fc33-11ea-92cf-6e8308b0bf8a.png',\n",
       " 'https://user-images.githubusercontent.com/52798316/93784146-e9d48100-fc2c-11ea-968e-d051c6496fe6.png',\n",
       " 'https://user-images.githubusercontent.com/68472164/93529702-a8965580-f93c-11ea-81f7-38042ccc85e3.png',\n",
       " 'https://user-images.githubusercontent.com/52798316/93784146-e9d48100-fc2c-11ea-968e-d051c6496fe6.png',\n",
       " 'https://user-images.githubusercontent.com/52798316/93789037-a597af80-fc31-11ea-9723-8d924548624d.png',\n",
       " 'https://user-images.githubusercontent.com/52798316/93784146-e9d48100-fc2c-11ea-968e-d051c6496fe6.png']"
      ]
     },
     "execution_count": 13,
     "metadata": {},
     "output_type": "execute_result"
    }
   ],
   "source": [
    "memes[:10]"
   ]
  },
  {
   "cell_type": "code",
   "execution_count": 14,
   "metadata": {},
   "outputs": [
    {
     "data": {
      "text/html": [
       "<img src=\"https://user-images.githubusercontent.com/57899051/93586847-3e67ca00-f9a9-11ea-8465-1adf354977db.jpg\"/>"
      ],
      "text/plain": [
       "<IPython.core.display.Image object>"
      ]
     },
     "metadata": {},
     "output_type": "display_data"
    },
    {
     "data": {
      "text/html": [
       "<img src=\"https://user-images.githubusercontent.com/52798316/93356303-4e639a80-f83f-11ea-8d61-65fe94209815.png\"/>"
      ],
      "text/plain": [
       "<IPython.core.display.Image object>"
      ]
     },
     "metadata": {},
     "output_type": "display_data"
    },
    {
     "data": {
      "text/html": [
       "<img src=\"https://user-images.githubusercontent.com/57899051/93536225-cff31f80-f948-11ea-9e32-e4b29dca17e2.jpg\"/>"
      ],
      "text/plain": [
       "<IPython.core.display.Image object>"
      ]
     },
     "metadata": {},
     "output_type": "display_data"
    },
    {
     "data": {
      "text/html": [
       "<img src=\"https://user-images.githubusercontent.com/66042132/93255229-e3ac5380-f799-11ea-8710-bace53d84864.jpeg\"/>"
      ],
      "text/plain": [
       "<IPython.core.display.Image object>"
      ]
     },
     "metadata": {},
     "output_type": "display_data"
    },
    {
     "data": {
      "text/html": [
       "<img src=\"https://user-images.githubusercontent.com/57899051/93535836-185e0d80-f948-11ea-99a1-b7f4cf461c1e.png\"/>"
      ],
      "text/plain": [
       "<IPython.core.display.Image object>"
      ]
     },
     "metadata": {},
     "output_type": "display_data"
    },
    {
     "data": {
      "text/html": [
       "<img src=\"https://user-images.githubusercontent.com/57899051/93535974-578c5e80-f948-11ea-9557-0ba9e29d81c5.jpg\"/>"
      ],
      "text/plain": [
       "<IPython.core.display.Image object>"
      ]
     },
     "metadata": {},
     "output_type": "display_data"
    },
    {
     "data": {
      "text/html": [
       "<img src=\"https://user-images.githubusercontent.com/52798316/93356303-4e639a80-f83f-11ea-8d61-65fe94209815.png\"/>"
      ],
      "text/plain": [
       "<IPython.core.display.Image object>"
      ]
     },
     "metadata": {},
     "output_type": "display_data"
    },
    {
     "data": {
      "text/html": [
       "<img src=\"https://user-images.githubusercontent.com/57899051/93535708-d3d27200-f947-11ea-852e-d832ec1c9bb3.jpg\"/>"
      ],
      "text/plain": [
       "<IPython.core.display.Image object>"
      ]
     },
     "metadata": {},
     "output_type": "display_data"
    },
    {
     "data": {
      "text/html": [
       "<img src=\"https://user-images.githubusercontent.com/52798316/93356303-4e639a80-f83f-11ea-8d61-65fe94209815.png\"/>"
      ],
      "text/plain": [
       "<IPython.core.display.Image object>"
      ]
     },
     "metadata": {},
     "output_type": "display_data"
    },
    {
     "data": {
      "text/html": [
       "<img src=\"https://user-images.githubusercontent.com/57899051/93535595-8e15a980-f947-11ea-9af6-03148d4e154e.jpg\"/>"
      ],
      "text/plain": [
       "<IPython.core.display.Image object>"
      ]
     },
     "metadata": {},
     "output_type": "display_data"
    }
   ],
   "source": [
    "from IPython.display import Image\n",
    "for url in memes[50:60]:\n",
    "    display(Image(url=url))"
   ]
  },
  {
   "cell_type": "code",
   "execution_count": null,
   "metadata": {},
   "outputs": [],
   "source": []
  },
  {
   "cell_type": "code",
   "execution_count": null,
   "metadata": {},
   "outputs": [],
   "source": []
  },
  {
   "cell_type": "code",
   "execution_count": 50,
   "metadata": {},
   "outputs": [],
   "source": [
    "def exceptionAsNone(fn):\n",
    "    def wrapper(*args,**kwargs):\n",
    "        try:\n",
    "            return fn(*args,**kwargs)\n",
    "        except:\n",
    "            print(\"Returning\",None)\n",
    "            return None\n",
    "    return wrapper"
   ]
  },
  {
   "cell_type": "code",
   "execution_count": 54,
   "metadata": {},
   "outputs": [],
   "source": [
    "def exceptionAs(value=None):\n",
    "    def decorator(fn):\n",
    "        def wrapper(*args,**kwargs):\n",
    "            try:\n",
    "                return fn(*args,**kwargs)\n",
    "            except:\n",
    "                if isinstance(value,Exception):\n",
    "                    raise value\n",
    "                print(\"Returning\",value)\n",
    "                return value\n",
    "        return wrapper\n",
    "    return decorator"
   ]
  },
  {
   "cell_type": "code",
   "execution_count": 57,
   "metadata": {},
   "outputs": [],
   "source": [
    "@exceptionAs(ValueError(\"Invalid data\"))\n",
    "def meme(comment):\n",
    "    z = re.findall(r'https:.jpg|.png|.jpeg',comment[0]['body'])\n",
    "    z = str(z).split('(')\n",
    "    try:\n",
    "        z = z[1].split(\"'\")\n",
    "        return z[0]\n",
    "    except Exception as e:\n",
    "        raise ValueError(\"Hola\")\n",
    "        z = str(z).split('(')\n",
    "        return z[0]"
   ]
  },
  {
   "cell_type": "code",
   "execution_count": 58,
   "metadata": {},
   "outputs": [
    {
     "ename": "ValueError",
     "evalue": "Invalid data",
     "output_type": "error",
     "traceback": [
      "\u001b[0;31m---------------------------------------------------------------------------\u001b[0m",
      "\u001b[0;31mIndexError\u001b[0m                                Traceback (most recent call last)",
      "\u001b[0;32m<ipython-input-57-885d25b1616d>\u001b[0m in \u001b[0;36mmeme\u001b[0;34m(comment)\u001b[0m\n\u001b[1;32m      5\u001b[0m     \u001b[0;32mtry\u001b[0m\u001b[0;34m:\u001b[0m\u001b[0;34m\u001b[0m\u001b[0;34m\u001b[0m\u001b[0m\n\u001b[0;32m----> 6\u001b[0;31m         \u001b[0mz\u001b[0m \u001b[0;34m=\u001b[0m \u001b[0mz\u001b[0m\u001b[0;34m[\u001b[0m\u001b[0;36m1\u001b[0m\u001b[0;34m]\u001b[0m\u001b[0;34m.\u001b[0m\u001b[0msplit\u001b[0m\u001b[0;34m(\u001b[0m\u001b[0;34m\"'\"\u001b[0m\u001b[0;34m)\u001b[0m\u001b[0;34m\u001b[0m\u001b[0;34m\u001b[0m\u001b[0m\n\u001b[0m\u001b[1;32m      7\u001b[0m         \u001b[0;32mreturn\u001b[0m \u001b[0mz\u001b[0m\u001b[0;34m[\u001b[0m\u001b[0;36m0\u001b[0m\u001b[0;34m]\u001b[0m\u001b[0;34m\u001b[0m\u001b[0;34m\u001b[0m\u001b[0m\n",
      "\u001b[0;31mIndexError\u001b[0m: list index out of range",
      "\nDuring handling of the above exception, another exception occurred:\n",
      "\u001b[0;31mValueError\u001b[0m                                Traceback (most recent call last)",
      "\u001b[0;32m<ipython-input-54-62b098cb81fb>\u001b[0m in \u001b[0;36mwrapper\u001b[0;34m(*args, **kwargs)\u001b[0m\n\u001b[1;32m      4\u001b[0m             \u001b[0;32mtry\u001b[0m\u001b[0;34m:\u001b[0m\u001b[0;34m\u001b[0m\u001b[0;34m\u001b[0m\u001b[0m\n\u001b[0;32m----> 5\u001b[0;31m                 \u001b[0;32mreturn\u001b[0m \u001b[0mfn\u001b[0m\u001b[0;34m(\u001b[0m\u001b[0;34m*\u001b[0m\u001b[0margs\u001b[0m\u001b[0;34m,\u001b[0m\u001b[0;34m**\u001b[0m\u001b[0mkwargs\u001b[0m\u001b[0;34m)\u001b[0m\u001b[0;34m\u001b[0m\u001b[0;34m\u001b[0m\u001b[0m\n\u001b[0m\u001b[1;32m      6\u001b[0m             \u001b[0;32mexcept\u001b[0m\u001b[0;34m:\u001b[0m\u001b[0;34m\u001b[0m\u001b[0;34m\u001b[0m\u001b[0m\n",
      "\u001b[0;32m<ipython-input-57-885d25b1616d>\u001b[0m in \u001b[0;36mmeme\u001b[0;34m(comment)\u001b[0m\n\u001b[1;32m      8\u001b[0m     \u001b[0;32mexcept\u001b[0m \u001b[0mException\u001b[0m \u001b[0;32mas\u001b[0m \u001b[0me\u001b[0m\u001b[0;34m:\u001b[0m\u001b[0;34m\u001b[0m\u001b[0;34m\u001b[0m\u001b[0m\n\u001b[0;32m----> 9\u001b[0;31m         \u001b[0;32mraise\u001b[0m \u001b[0mValueError\u001b[0m\u001b[0;34m(\u001b[0m\u001b[0;34m\"Hola\"\u001b[0m\u001b[0;34m)\u001b[0m\u001b[0;34m\u001b[0m\u001b[0;34m\u001b[0m\u001b[0m\n\u001b[0m\u001b[1;32m     10\u001b[0m         \u001b[0mz\u001b[0m \u001b[0;34m=\u001b[0m \u001b[0mstr\u001b[0m\u001b[0;34m(\u001b[0m\u001b[0mz\u001b[0m\u001b[0;34m)\u001b[0m\u001b[0;34m.\u001b[0m\u001b[0msplit\u001b[0m\u001b[0;34m(\u001b[0m\u001b[0;34m'('\u001b[0m\u001b[0;34m)\u001b[0m\u001b[0;34m\u001b[0m\u001b[0;34m\u001b[0m\u001b[0m\n",
      "\u001b[0;31mValueError\u001b[0m: Hola",
      "\nDuring handling of the above exception, another exception occurred:\n",
      "\u001b[0;31mValueError\u001b[0m                                Traceback (most recent call last)",
      "\u001b[0;32m<ipython-input-58-50b73bc19b89>\u001b[0m in \u001b[0;36m<module>\u001b[0;34m\u001b[0m\n\u001b[1;32m      1\u001b[0m \u001b[0mcomment\u001b[0m \u001b[0;34m=\u001b[0m \u001b[0;34m[\u001b[0m\u001b[0;34m{\u001b[0m\u001b[0;34m\"body\"\u001b[0m\u001b[0;34m:\u001b[0m\u001b[0;34m\"https://okdiario.com/img/2018/04/09/receta-de-ensaimada-de-crema-2.jpeg\"\u001b[0m\u001b[0;34m}\u001b[0m\u001b[0;34m]\u001b[0m\u001b[0;34m\u001b[0m\u001b[0;34m\u001b[0m\u001b[0m\n\u001b[0;32m----> 2\u001b[0;31m \u001b[0mmeme\u001b[0m\u001b[0;34m(\u001b[0m\u001b[0mcomment\u001b[0m\u001b[0;34m)\u001b[0m\u001b[0;34m\u001b[0m\u001b[0;34m\u001b[0m\u001b[0m\n\u001b[0m",
      "\u001b[0;32m<ipython-input-54-62b098cb81fb>\u001b[0m in \u001b[0;36mwrapper\u001b[0;34m(*args, **kwargs)\u001b[0m\n\u001b[1;32m      6\u001b[0m             \u001b[0;32mexcept\u001b[0m\u001b[0;34m:\u001b[0m\u001b[0;34m\u001b[0m\u001b[0;34m\u001b[0m\u001b[0m\n\u001b[1;32m      7\u001b[0m                 \u001b[0;32mif\u001b[0m \u001b[0misinstance\u001b[0m\u001b[0;34m(\u001b[0m\u001b[0mvalue\u001b[0m\u001b[0;34m,\u001b[0m\u001b[0mException\u001b[0m\u001b[0;34m)\u001b[0m\u001b[0;34m:\u001b[0m\u001b[0;34m\u001b[0m\u001b[0;34m\u001b[0m\u001b[0m\n\u001b[0;32m----> 8\u001b[0;31m                     \u001b[0;32mraise\u001b[0m \u001b[0mvalue\u001b[0m\u001b[0;34m\u001b[0m\u001b[0;34m\u001b[0m\u001b[0m\n\u001b[0m\u001b[1;32m      9\u001b[0m                 \u001b[0mprint\u001b[0m\u001b[0;34m(\u001b[0m\u001b[0;34m\"Returning\"\u001b[0m\u001b[0;34m,\u001b[0m\u001b[0mvalue\u001b[0m\u001b[0;34m)\u001b[0m\u001b[0;34m\u001b[0m\u001b[0;34m\u001b[0m\u001b[0m\n\u001b[1;32m     10\u001b[0m                 \u001b[0;32mreturn\u001b[0m \u001b[0mvalue\u001b[0m\u001b[0;34m\u001b[0m\u001b[0;34m\u001b[0m\u001b[0m\n",
      "\u001b[0;31mValueError\u001b[0m: Invalid data"
     ]
    }
   ],
   "source": [
    "comment = [{\"body\":\"https://okdiario.com/img/2018/04/09/receta-de-ensaimada-de-crema-2.jpeg\"}]\n",
    "meme(comment)"
   ]
  },
  {
   "cell_type": "code",
   "execution_count": null,
   "metadata": {},
   "outputs": [],
   "source": []
  },
  {
   "cell_type": "code",
   "execution_count": null,
   "metadata": {},
   "outputs": [],
   "source": []
  }
 ],
 "metadata": {
  "kernelspec": {
   "display_name": "Python 3",
   "language": "python",
   "name": "python3"
  },
  "language_info": {
   "codemirror_mode": {
    "name": "ipython",
    "version": 3
   },
   "file_extension": ".py",
   "mimetype": "text/x-python",
   "name": "python",
   "nbconvert_exporter": "python",
   "pygments_lexer": "ipython3",
   "version": "3.8.4"
  }
 },
 "nbformat": 4,
 "nbformat_minor": 4
}
