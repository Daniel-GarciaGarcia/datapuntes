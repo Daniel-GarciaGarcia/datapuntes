{
 "cells": [
  {
   "cell_type": "code",
   "execution_count": 1,
   "metadata": {},
   "outputs": [],
   "source": [
    "#https://spectrum.chat/datamad/projects/duda-sobre-apply-function~d7337d36-bb44-4069-b0a8-5a0972ceec59"
   ]
  },
  {
   "cell_type": "code",
   "execution_count": 3,
   "metadata": {},
   "outputs": [
    {
     "data": {
      "text/html": [
       "<div>\n",
       "<style scoped>\n",
       "    .dataframe tbody tr th:only-of-type {\n",
       "        vertical-align: middle;\n",
       "    }\n",
       "\n",
       "    .dataframe tbody tr th {\n",
       "        vertical-align: top;\n",
       "    }\n",
       "\n",
       "    .dataframe thead th {\n",
       "        text-align: right;\n",
       "    }\n",
       "</style>\n",
       "<table border=\"1\" class=\"dataframe\">\n",
       "  <thead>\n",
       "    <tr style=\"text-align: right;\">\n",
       "      <th></th>\n",
       "      <th>0</th>\n",
       "      <th>1</th>\n",
       "    </tr>\n",
       "  </thead>\n",
       "  <tbody>\n",
       "    <tr>\n",
       "      <th>0</th>\n",
       "      <td>0.676882</td>\n",
       "      <td>0.448158</td>\n",
       "    </tr>\n",
       "    <tr>\n",
       "      <th>1</th>\n",
       "      <td>0.410506</td>\n",
       "      <td>0.126710</td>\n",
       "    </tr>\n",
       "    <tr>\n",
       "      <th>2</th>\n",
       "      <td>0.184001</td>\n",
       "      <td>0.964998</td>\n",
       "    </tr>\n",
       "    <tr>\n",
       "      <th>3</th>\n",
       "      <td>0.699601</td>\n",
       "      <td>0.276513</td>\n",
       "    </tr>\n",
       "    <tr>\n",
       "      <th>4</th>\n",
       "      <td>0.828454</td>\n",
       "      <td>0.782474</td>\n",
       "    </tr>\n",
       "    <tr>\n",
       "      <th>5</th>\n",
       "      <td>0.624224</td>\n",
       "      <td>0.034172</td>\n",
       "    </tr>\n",
       "    <tr>\n",
       "      <th>6</th>\n",
       "      <td>0.003828</td>\n",
       "      <td>0.135881</td>\n",
       "    </tr>\n",
       "    <tr>\n",
       "      <th>7</th>\n",
       "      <td>0.610277</td>\n",
       "      <td>0.152119</td>\n",
       "    </tr>\n",
       "    <tr>\n",
       "      <th>8</th>\n",
       "      <td>0.862744</td>\n",
       "      <td>0.542121</td>\n",
       "    </tr>\n",
       "    <tr>\n",
       "      <th>9</th>\n",
       "      <td>0.845798</td>\n",
       "      <td>0.025875</td>\n",
       "    </tr>\n",
       "  </tbody>\n",
       "</table>\n",
       "</div>"
      ],
      "text/plain": [
       "          0         1\n",
       "0  0.676882  0.448158\n",
       "1  0.410506  0.126710\n",
       "2  0.184001  0.964998\n",
       "3  0.699601  0.276513\n",
       "4  0.828454  0.782474\n",
       "5  0.624224  0.034172\n",
       "6  0.003828  0.135881\n",
       "7  0.610277  0.152119\n",
       "8  0.862744  0.542121\n",
       "9  0.845798  0.025875"
      ]
     },
     "metadata": {},
     "output_type": "display_data"
    },
    {
     "data": {
      "text/html": [
       "<div>\n",
       "<style scoped>\n",
       "    .dataframe tbody tr th:only-of-type {\n",
       "        vertical-align: middle;\n",
       "    }\n",
       "\n",
       "    .dataframe tbody tr th {\n",
       "        vertical-align: top;\n",
       "    }\n",
       "\n",
       "    .dataframe thead th {\n",
       "        text-align: right;\n",
       "    }\n",
       "</style>\n",
       "<table border=\"1\" class=\"dataframe\">\n",
       "  <thead>\n",
       "    <tr style=\"text-align: right;\">\n",
       "      <th></th>\n",
       "      <th>A</th>\n",
       "      <th>B</th>\n",
       "    </tr>\n",
       "  </thead>\n",
       "  <tbody>\n",
       "    <tr>\n",
       "      <th>0</th>\n",
       "      <td>0.175680</td>\n",
       "      <td>0.203697</td>\n",
       "    </tr>\n",
       "    <tr>\n",
       "      <th>1</th>\n",
       "      <td>0.602426</td>\n",
       "      <td>0.429150</td>\n",
       "    </tr>\n",
       "    <tr>\n",
       "      <th>2</th>\n",
       "      <td>0.355173</td>\n",
       "      <td>0.868764</td>\n",
       "    </tr>\n",
       "    <tr>\n",
       "      <th>3</th>\n",
       "      <td>0.463526</td>\n",
       "      <td>0.637745</td>\n",
       "    </tr>\n",
       "    <tr>\n",
       "      <th>4</th>\n",
       "      <td>0.612023</td>\n",
       "      <td>0.878084</td>\n",
       "    </tr>\n",
       "    <tr>\n",
       "      <th>5</th>\n",
       "      <td>0.081031</td>\n",
       "      <td>0.370484</td>\n",
       "    </tr>\n",
       "    <tr>\n",
       "      <th>6</th>\n",
       "      <td>0.735620</td>\n",
       "      <td>0.087738</td>\n",
       "    </tr>\n",
       "    <tr>\n",
       "      <th>7</th>\n",
       "      <td>0.549454</td>\n",
       "      <td>0.285237</td>\n",
       "    </tr>\n",
       "    <tr>\n",
       "      <th>8</th>\n",
       "      <td>0.381382</td>\n",
       "      <td>0.564254</td>\n",
       "    </tr>\n",
       "    <tr>\n",
       "      <th>9</th>\n",
       "      <td>0.494248</td>\n",
       "      <td>0.699527</td>\n",
       "    </tr>\n",
       "  </tbody>\n",
       "</table>\n",
       "</div>"
      ],
      "text/plain": [
       "          A         B\n",
       "0  0.175680  0.203697\n",
       "1  0.602426  0.429150\n",
       "2  0.355173  0.868764\n",
       "3  0.463526  0.637745\n",
       "4  0.612023  0.878084\n",
       "5  0.081031  0.370484\n",
       "6  0.735620  0.087738\n",
       "7  0.549454  0.285237\n",
       "8  0.381382  0.564254\n",
       "9  0.494248  0.699527"
      ]
     },
     "metadata": {},
     "output_type": "display_data"
    }
   ],
   "source": [
    "import pandas as pd\n",
    "import numpy as np\n",
    "\n",
    "\n",
    "df1 = pd.DataFrame(np.random.random((10,2)))\n",
    "df2 = pd.DataFrame(np.random.random((10,2)), columns=[\"A\",\"B\"])\n",
    "display(df1)\n",
    "defdisplay(df2)"
   ]
  },
  {
   "cell_type": "code",
   "execution_count": 6,
   "metadata": {},
   "outputs": [
    {
     "data": {
      "text/plain": [
       "0     8.962681\n",
       "1    18.882588\n",
       "2    38.225616\n",
       "3    28.060760\n",
       "4    38.635675\n",
       "5    16.301299\n",
       "6     3.860451\n",
       "7    12.550434\n",
       "8    24.827197\n",
       "9    30.779207\n",
       "Name: B, dtype: float64"
      ]
     },
     "execution_count": 6,
     "metadata": {},
     "output_type": "execute_result"
    }
   ],
   "source": [
    "def transformer(e):\n",
    "    return e*44\n",
    "    \n",
    "    \n",
    "df2[\"B\"].apply(transformer)"
   ]
  },
  {
   "cell_type": "code",
   "execution_count": 11,
   "metadata": {},
   "outputs": [
    {
     "data": {
      "text/plain": [
       "0     0.203697\n",
       "1     0.429150\n",
       "2    38.225616\n",
       "3     0.637745\n",
       "4    38.635675\n",
       "5     0.370484\n",
       "6     0.087738\n",
       "7     0.285237\n",
       "8    24.827197\n",
       "9     0.699527\n",
       "dtype: float64"
      ]
     },
     "execution_count": 11,
     "metadata": {},
     "output_type": "execute_result"
    }
   ],
   "source": [
    "q = pd.concat([df1,df2], axis=1)\n",
    "\n",
    "\n",
    "def transf2(row):\n",
    "    return 44*row[\"B\"] if row[1] > 0.5 else row[\"B\"]\n",
    "\n",
    "q[[1,\"B\"]].apply(transf2,axis=1)"
   ]
  },
  {
   "cell_type": "code",
   "execution_count": 13,
   "metadata": {},
   "outputs": [
    {
     "data": {
      "text/plain": [
       "0    0\n",
       "1    0\n",
       "2    0\n",
       "3    0\n",
       "4    0\n",
       "5    0\n",
       "6    0\n",
       "7    0\n",
       "8    0\n",
       "9    0\n",
       "Name: B, dtype: int64"
      ]
     },
     "execution_count": 13,
     "metadata": {},
     "output_type": "execute_result"
    }
   ],
   "source": [
    "def trans3(searchDf):\n",
    "    def transformer(e):\n",
    "        return searchDf[searchDf[0] == e].size\n",
    "    return transformer\n",
    "    \n",
    "df2[\"B\"].apply(trans3(df1))"
   ]
  },
  {
   "cell_type": "code",
   "execution_count": null,
   "metadata": {},
   "outputs": [],
   "source": []
  }
 ],
 "metadata": {
  "kernelspec": {
   "display_name": "Python 3",
   "language": "python",
   "name": "python3"
  },
  "language_info": {
   "codemirror_mode": {
    "name": "ipython",
    "version": 3
   },
   "file_extension": ".py",
   "mimetype": "text/x-python",
   "name": "python",
   "nbconvert_exporter": "python",
   "pygments_lexer": "ipython3",
   "version": "3.8.4"
  }
 },
 "nbformat": 4,
 "nbformat_minor": 4
}
