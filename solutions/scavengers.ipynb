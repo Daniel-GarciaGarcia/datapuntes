{
 "cells": [
  {
   "cell_type": "code",
   "execution_count": 1,
   "metadata": {},
   "outputs": [],
   "source": [
    "import requests\n",
    "from dotenv import load_dotenv\n",
    "import os\n",
    "load_dotenv()\n",
    "\n",
    "def get_github(endpoint, apiKey=os.getenv(\"GITHUB_APIKEY\"), query_params={}): \n",
    "    \"\"\"\n",
    "    Get data from github using query parameters and passing a custom apikey header\n",
    "    \"\"\"\n",
    "    \n",
    "    # Compose the endpoint url\n",
    "    baseUrl = \"https://api.github.com\"\n",
    "    url = f\"{baseUrl}{endpoint}\"\n",
    "\n",
    "    # Create the headers\n",
    "    headers = {\n",
    "        \"Authorization\": f\"Bearer {apiKey}\"\n",
    "    }\n",
    "    # make the request and get the response using HTTP GET verb \n",
    "    res = requests.get(url, params=query_params, headers=headers)\n",
    "   \n",
    "    print(f\"Request data to {res.url} status_code:{res.status_code}\")\n",
    "    data = res.json()\n",
    "    \n",
    "    if res.status_code != 200:\n",
    "        raise ValueError(f'Invalid github api call: {data[\"message\"]}')\n",
    "\n",
    "    return data\n"
   ]
  },
  {
   "cell_type": "code",
   "execution_count": 4,
   "metadata": {},
   "outputs": [
    {
     "name": "stdout",
     "output_type": "stream",
     "text": [
      "Request data to https://api.github.com/search/code?q=repo%3Aironhack-datalabs%2Fscavenger+filename%3A.scavengerhunt status_code:200\n"
     ]
    }
   ],
   "source": [
    "names = get_github(\"/search/code\",query_params={\"q\":\"repo:ironhack-datalabs/scavenger filename:.scavengerhunt\"})"
   ]
  },
  {
   "cell_type": "code",
   "execution_count": 7,
   "metadata": {},
   "outputs": [],
   "source": [
    "fnames = [{\"path\":item[\"path\"],\"name\":item[\"name\"]} for item in names[\"items\"]]"
   ]
  },
  {
   "cell_type": "code",
   "execution_count": 12,
   "metadata": {},
   "outputs": [],
   "source": [
    "fnames = sorted(fnames,key=lambda e: e[\"name\"])"
   ]
  },
  {
   "cell_type": "code",
   "execution_count": 13,
   "metadata": {},
   "outputs": [
    {
     "data": {
      "text/plain": [
       "[{'path': '98750/.0001.scavengerhunt', 'name': '.0001.scavengerhunt'},\n",
       " {'path': '88596/.0002.scavengerhunt', 'name': '.0002.scavengerhunt'},\n",
       " {'path': '60224/.0003.scavengerhunt', 'name': '.0003.scavengerhunt'},\n",
       " {'path': '68848/.0004.scavengerhunt', 'name': '.0004.scavengerhunt'},\n",
       " {'path': '44639/.0005.scavengerhunt', 'name': '.0005.scavengerhunt'},\n",
       " {'path': '15024/.0006.scavengerhunt', 'name': '.0006.scavengerhunt'},\n",
       " {'path': '17020/.0007.scavengerhunt', 'name': '.0007.scavengerhunt'},\n",
       " {'path': '15534/.0008.scavengerhunt', 'name': '.0008.scavengerhunt'},\n",
       " {'path': '97881/.0009.scavengerhunt', 'name': '.0009.scavengerhunt'},\n",
       " {'path': '47830/.0010.scavengerhunt', 'name': '.0010.scavengerhunt'},\n",
       " {'path': '50896/.0011.scavengerhunt', 'name': '.0011.scavengerhunt'},\n",
       " {'path': '15534/.0012.scavengerhunt', 'name': '.0012.scavengerhunt'},\n",
       " {'path': '89338/.0013.scavengerhunt', 'name': '.0013.scavengerhunt'},\n",
       " {'path': '49418/.0014.scavengerhunt', 'name': '.0014.scavengerhunt'},\n",
       " {'path': '91701/.0015.scavengerhunt', 'name': '.0015.scavengerhunt'},\n",
       " {'path': '47222/.0016.scavengerhunt', 'name': '.0016.scavengerhunt'},\n",
       " {'path': '70985/.0017.scavengerhunt', 'name': '.0017.scavengerhunt'},\n",
       " {'path': '45525/.0018.scavengerhunt', 'name': '.0018.scavengerhunt'},\n",
       " {'path': '70751/.0019.scavengerhunt', 'name': '.0019.scavengerhunt'},\n",
       " {'path': '55685/.0020.scavengerhunt', 'name': '.0020.scavengerhunt'},\n",
       " {'path': '30351/.0021.scavengerhunt', 'name': '.0021.scavengerhunt'},\n",
       " {'path': '40303/.0022.scavengerhunt', 'name': '.0022.scavengerhunt'},\n",
       " {'path': '55417/.0023.scavengerhunt', 'name': '.0023.scavengerhunt'},\n",
       " {'path': '47222/.0024.scavengerhunt', 'name': '.0024.scavengerhunt'}]"
      ]
     },
     "execution_count": 13,
     "metadata": {},
     "output_type": "execute_result"
    }
   ],
   "source": [
    "fnames"
   ]
  },
  {
   "cell_type": "code",
   "execution_count": 16,
   "metadata": {},
   "outputs": [],
   "source": [
    "urls = [f'https://raw.githubusercontent.com/ironhack-datalabs/scavenger/master/{a[\"path\"]}' for a in fnames]"
   ]
  },
  {
   "cell_type": "code",
   "execution_count": 17,
   "metadata": {},
   "outputs": [
    {
     "data": {
      "text/plain": [
       "['https://raw.githubusercontent.com/ironhack-datalabs/scavenger/master/98750/.0001.scavengerhunt',\n",
       " 'https://raw.githubusercontent.com/ironhack-datalabs/scavenger/master/88596/.0002.scavengerhunt',\n",
       " 'https://raw.githubusercontent.com/ironhack-datalabs/scavenger/master/60224/.0003.scavengerhunt',\n",
       " 'https://raw.githubusercontent.com/ironhack-datalabs/scavenger/master/68848/.0004.scavengerhunt',\n",
       " 'https://raw.githubusercontent.com/ironhack-datalabs/scavenger/master/44639/.0005.scavengerhunt',\n",
       " 'https://raw.githubusercontent.com/ironhack-datalabs/scavenger/master/15024/.0006.scavengerhunt',\n",
       " 'https://raw.githubusercontent.com/ironhack-datalabs/scavenger/master/17020/.0007.scavengerhunt',\n",
       " 'https://raw.githubusercontent.com/ironhack-datalabs/scavenger/master/15534/.0008.scavengerhunt',\n",
       " 'https://raw.githubusercontent.com/ironhack-datalabs/scavenger/master/97881/.0009.scavengerhunt',\n",
       " 'https://raw.githubusercontent.com/ironhack-datalabs/scavenger/master/47830/.0010.scavengerhunt',\n",
       " 'https://raw.githubusercontent.com/ironhack-datalabs/scavenger/master/50896/.0011.scavengerhunt',\n",
       " 'https://raw.githubusercontent.com/ironhack-datalabs/scavenger/master/15534/.0012.scavengerhunt',\n",
       " 'https://raw.githubusercontent.com/ironhack-datalabs/scavenger/master/89338/.0013.scavengerhunt',\n",
       " 'https://raw.githubusercontent.com/ironhack-datalabs/scavenger/master/49418/.0014.scavengerhunt',\n",
       " 'https://raw.githubusercontent.com/ironhack-datalabs/scavenger/master/91701/.0015.scavengerhunt',\n",
       " 'https://raw.githubusercontent.com/ironhack-datalabs/scavenger/master/47222/.0016.scavengerhunt',\n",
       " 'https://raw.githubusercontent.com/ironhack-datalabs/scavenger/master/70985/.0017.scavengerhunt',\n",
       " 'https://raw.githubusercontent.com/ironhack-datalabs/scavenger/master/45525/.0018.scavengerhunt',\n",
       " 'https://raw.githubusercontent.com/ironhack-datalabs/scavenger/master/70751/.0019.scavengerhunt',\n",
       " 'https://raw.githubusercontent.com/ironhack-datalabs/scavenger/master/55685/.0020.scavengerhunt',\n",
       " 'https://raw.githubusercontent.com/ironhack-datalabs/scavenger/master/30351/.0021.scavengerhunt',\n",
       " 'https://raw.githubusercontent.com/ironhack-datalabs/scavenger/master/40303/.0022.scavengerhunt',\n",
       " 'https://raw.githubusercontent.com/ironhack-datalabs/scavenger/master/55417/.0023.scavengerhunt',\n",
       " 'https://raw.githubusercontent.com/ironhack-datalabs/scavenger/master/47222/.0024.scavengerhunt']"
      ]
     },
     "execution_count": 17,
     "metadata": {},
     "output_type": "execute_result"
    }
   ],
   "source": [
    "urls"
   ]
  },
  {
   "cell_type": "code",
   "execution_count": 20,
   "metadata": {},
   "outputs": [],
   "source": [
    "sentence = [requests.get(url).text for url in urls]"
   ]
  },
  {
   "cell_type": "code",
   "execution_count": 22,
   "metadata": {},
   "outputs": [],
   "source": [
    "sentence = [e.rstrip()  for e in sentence]"
   ]
  },
  {
   "cell_type": "code",
   "execution_count": 24,
   "metadata": {},
   "outputs": [
    {
     "data": {
      "text/plain": [
       "'In data science, 80 percent of time spent is preparing data, 20 percent of time is spent complaining about the need to prepare data.'"
      ]
     },
     "execution_count": 24,
     "metadata": {},
     "output_type": "execute_result"
    }
   ],
   "source": [
    "' '.join(sentence)"
   ]
  },
  {
   "cell_type": "code",
   "execution_count": null,
   "metadata": {},
   "outputs": [],
   "source": []
  }
 ],
 "metadata": {
  "kernelspec": {
   "display_name": "Python 3",
   "language": "python",
   "name": "python3"
  },
  "language_info": {
   "codemirror_mode": {
    "name": "ipython",
    "version": 3
   },
   "file_extension": ".py",
   "mimetype": "text/x-python",
   "name": "python",
   "nbconvert_exporter": "python",
   "pygments_lexer": "ipython3",
   "version": "3.8.4"
  }
 },
 "nbformat": 4,
 "nbformat_minor": 4
}
