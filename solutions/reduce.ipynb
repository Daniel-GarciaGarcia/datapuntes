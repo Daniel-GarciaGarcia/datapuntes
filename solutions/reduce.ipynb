{
 "cells": [
  {
   "cell_type": "code",
   "execution_count": null,
   "metadata": {},
   "outputs": [],
   "source": [
    "#https://alligator.io/js/finally-understand-reduce/"
   ]
  },
  {
   "cell_type": "code",
   "execution_count": 4,
   "metadata": {},
   "outputs": [
    {
     "data": {
      "text/plain": [
       "[1, 2, 3, 4, 5, 6, 7, 8, 9, 10]"
      ]
     },
     "execution_count": 4,
     "metadata": {},
     "output_type": "execute_result"
    }
   ],
   "source": [
    "from functools import reduce\n",
    "\n",
    "a = [\n",
    "    [1,2],\n",
    "    [3,4,5],\n",
    "    [6,7,8,9,10]\n",
    "]\n",
    "\n",
    "# array flatten\n",
    "reduce(lambda acc,e: acc+e,a,[])"
   ]
  },
  {
   "cell_type": "code",
   "execution_count": 9,
   "metadata": {},
   "outputs": [
    {
     "name": "stdout",
     "output_type": "stream",
     "text": [
      "{'charmander': 'fire', 'squirtle': 'fire', 'bulbasaur': 'grass'}\n"
     ]
    },
    {
     "data": {
      "text/plain": [
       "'fire'"
      ]
     },
     "execution_count": 9,
     "metadata": {},
     "output_type": "execute_result"
    }
   ],
   "source": [
    "pokemon = [\n",
    "  { \"name\": \"charmander\", \"type\": \"fire\" },\n",
    "  { \"name\": \"squirtle\", \"type\": \"water\" },\n",
    "  { \"name\": \"bulbasaur\", \"type\": \"grass\" },\n",
    "  { \"name\": \"squirtle\", \"type\": \"fire\" },\n",
    "]\n",
    "\n",
    "def merge(acc,e):\n",
    "    acc[e[\"name\"]]=e[\"type\"]\n",
    "    return acc\n",
    "\n",
    "q = reduce(merge, pokemon, {})\n",
    "\n",
    "print(q)\n",
    "\n",
    "q[\"squirtle\"]\n",
    "\n"
   ]
  },
  {
   "cell_type": "code",
   "execution_count": 22,
   "metadata": {},
   "outputs": [
    {
     "data": {
      "text/plain": [
       "{'charmander': 'fire', 'squirtle': 'fire', 'bulbasaur': 'grass'}"
      ]
     },
     "execution_count": 22,
     "metadata": {},
     "output_type": "execute_result"
    }
   ],
   "source": [
    "pokemon = [\n",
    "  { \"name\": \"charmander\", \"type\": \"fire\" },\n",
    "  { \"name\": \"squirtle\", \"type\": \"water\" },\n",
    "  { \"name\": \"bulbasaur\", \"type\": \"grass\" },\n",
    "  { \"name\": \"squirtle\", \"type\": \"fire\" },\n",
    "]\n",
    "\n",
    "\n",
    "reduce(lambda acc,e: {**acc,e[\"name\"]:e[\"type\"]}, pokemon, {})"
   ]
  },
  {
   "cell_type": "code",
   "execution_count": 23,
   "metadata": {},
   "outputs": [
    {
     "data": {
      "text/plain": [
       "{'charmander': 'fire', 'squirtle': 'fire', 'bulbasaur': 'grass'}"
      ]
     },
     "execution_count": 23,
     "metadata": {},
     "output_type": "execute_result"
    }
   ],
   "source": [
    "{e[\"name\"]:e[\"type\"] for e in pokemon}"
   ]
  },
  {
   "cell_type": "code",
   "execution_count": null,
   "metadata": {},
   "outputs": [],
   "source": []
  },
  {
   "cell_type": "code",
   "execution_count": null,
   "metadata": {},
   "outputs": [],
   "source": []
  },
  {
   "cell_type": "code",
   "execution_count": null,
   "metadata": {},
   "outputs": [],
   "source": []
  },
  {
   "cell_type": "code",
   "execution_count": null,
   "metadata": {},
   "outputs": [],
   "source": []
  }
 ],
 "metadata": {
  "kernelspec": {
   "display_name": "Python 3",
   "language": "python",
   "name": "python3"
  },
  "language_info": {
   "codemirror_mode": {
    "name": "ipython",
    "version": 3
   },
   "file_extension": ".py",
   "mimetype": "text/x-python",
   "name": "python",
   "nbconvert_exporter": "python",
   "pygments_lexer": "ipython3",
   "version": "3.8.4"
  }
 },
 "nbformat": 4,
 "nbformat_minor": 4
}
