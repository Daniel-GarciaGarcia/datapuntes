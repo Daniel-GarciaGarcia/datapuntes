{
 "cells": [
  {
   "cell_type": "code",
   "execution_count": 1,
   "metadata": {},
   "outputs": [],
   "source": [
    "# https://www.selenium.dev/documentation/en/\n"
   ]
  },
  {
   "cell_type": "code",
   "execution_count": 9,
   "metadata": {},
   "outputs": [],
   "source": [
    "from selenium import webdriver\n",
    "from selenium.webdriver.common.by import By\n",
    "from selenium.webdriver.support.ui import WebDriverWait\n",
    "from selenium.webdriver.support import expected_conditions as EC\n",
    "from bs4 import BeautifulSoup\n"
   ]
  },
  {
   "cell_type": "code",
   "execution_count": 34,
   "metadata": {},
   "outputs": [],
   "source": [
    "def getPage(url):\n",
    "    # open chrome\n",
    "    driver = webdriver.Chrome()\n",
    "    driver.implicitly_wait(10) # wait 10 seconds for chrome to open\n",
    "    \n",
    "    # open a tab with specified url\n",
    "    driver.get(url)\n",
    "  \n",
    "    # wait until there is an <article> tag in the DOM\n",
    "    element = WebDriverWait(driver, 10).until(\n",
    "        EC.presence_of_element_located((By.TAG_NAME, \"article\"))\n",
    "    )\n",
    "    \n",
    "    # get the source as a bs4 object\n",
    "    html = driver.page_source\n",
    "    soup = BeautifulSoup(html, 'html.parser')\n",
    "\n",
    "    # close browser\n",
    "    driver.quit()\n",
    "    return soup"
   ]
  },
  {
   "cell_type": "code",
   "execution_count": 35,
   "metadata": {},
   "outputs": [],
   "source": [
    "soup = getPage(\"https://twitter.com/albertochicote\")"
   ]
  },
  {
   "cell_type": "code",
   "execution_count": 36,
   "metadata": {},
   "outputs": [
    {
     "data": {
      "text/plain": [
       "2403"
      ]
     },
     "execution_count": 36,
     "metadata": {},
     "output_type": "execute_result"
    }
   ],
   "source": [
    "following = soup.select_one('a[href$=\"/following\"]').find(\"span\").text\n",
    "following = int(following.replace(\".\",\"\"))\n",
    "following\n"
   ]
  },
  {
   "cell_type": "code",
   "execution_count": 40,
   "metadata": {},
   "outputs": [],
   "source": [
    "def getFollowersFromAccount(twitterAccount,getPageFn):\n",
    "    soup = getPageFn(f\"https://twitter.com/{twitterAccount}\")\n",
    "    following = soup.select_one('a[href$=\"/following\"]').find(\"span\").text\n",
    "    following = int(following.replace(\".\",\"\"))\n",
    "    return following"
   ]
  },
  {
   "cell_type": "code",
   "execution_count": 50,
   "metadata": {},
   "outputs": [
    {
     "name": "stdout",
     "output_type": "stream",
     "text": [
      "@ironhack has 685 followers\n"
     ]
    }
   ],
   "source": [
    "account = \"ironhack\"\n",
    "f = getFollowersFromAccount(account,getPage)\n",
    "print(f\"@{account} has {f} followers\")"
   ]
  },
  {
   "cell_type": "code",
   "execution_count": 48,
   "metadata": {},
   "outputs": [],
   "source": [
    "class PageGetter:\n",
    "    driver = False\n",
    "    def __init__(self, defaultBrowser='firefox'):\n",
    "        if defaultBrowser == 'firefox':\n",
    "            self.driver = webdriver.Firefox()\n",
    "        elif defaultBrowser == 'chrome':\n",
    "            self.driver = webdriver.Chrome()\n",
    "        else:\n",
    "            raise Exception('Not a browser')\n",
    "\n",
    "    def getPage(self, url):\n",
    "        if not self.driver:\n",
    "            raise Exception(\"You should start a browser connection\")\n",
    "        self.driver.get(url)\n",
    "        # wait until there is an <article> tag in the DOM\n",
    "        element = WebDriverWait(self.driver, 10).until(\n",
    "            EC.presence_of_element_located((By.TAG_NAME, \"article\"))\n",
    "        )\n",
    "    \n",
    "        html = self.driver.page_source\n",
    "        soup = BeautifulSoup(html, 'html.parser')\n",
    "        return soup\n",
    "\n",
    "    def close(self):\n",
    "        self.driver.quit()"
   ]
  },
  {
   "cell_type": "code",
   "execution_count": 49,
   "metadata": {},
   "outputs": [
    {
     "name": "stdout",
     "output_type": "stream",
     "text": [
      "@ironhack is following 685\n",
      "@ironhackmia is following 199\n",
      "@ironhackmad is following 1175\n",
      "@ironhackams is following 586\n"
     ]
    }
   ],
   "source": [
    "pg = PageGetter('chrome')\n",
    "\n",
    "\n",
    "accounts = [\"ironhack\",\"ironhackmia\",\"ironhackmad\",\"ironhackams\"]\n",
    "for account in accounts:\n",
    "    f = getFollowersFromAccount(account,pg.getPage)\n",
    "    print(f\"@{account} is following {f}\")\n",
    "pg.close()\n"
   ]
  },
  {
   "cell_type": "code",
   "execution_count": null,
   "metadata": {},
   "outputs": [],
   "source": []
  }
 ],
 "metadata": {
  "kernelspec": {
   "display_name": "Python 3",
   "language": "python",
   "name": "python3"
  },
  "language_info": {
   "codemirror_mode": {
    "name": "ipython",
    "version": 3
   },
   "file_extension": ".py",
   "mimetype": "text/x-python",
   "name": "python",
   "nbconvert_exporter": "python",
   "pygments_lexer": "ipython3",
   "version": "3.8.4"
  }
 },
 "nbformat": 4,
 "nbformat_minor": 4
}
